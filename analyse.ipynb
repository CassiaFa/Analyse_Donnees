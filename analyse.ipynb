{
 "cells": [
  {
   "cell_type": "markdown",
   "id": "ab16d3d1",
   "metadata": {},
   "source": [
    "# Titre du brief"
   ]
  },
  {
   "cell_type": "markdown",
   "id": "c01aaf01",
   "metadata": {},
   "source": [
    "## Import des bibliothèques"
   ]
  },
  {
   "cell_type": "code",
   "execution_count": 1,
   "id": "45d764c9",
   "metadata": {},
   "outputs": [],
   "source": [
    "import pandas as pd\n",
    "import numpy as np\n",
    "import scipy as sp\n",
    "import matplotlib.pyplot as plt"
   ]
  },
  {
   "cell_type": "markdown",
   "id": "9d9237ce",
   "metadata": {},
   "source": [
    "## Importation du crédit immo"
   ]
  },
  {
   "cell_type": "code",
   "execution_count": 3,
   "id": "2c1c65b5",
   "metadata": {},
   "outputs": [
    {
     "data": {
      "text/html": [
       "<div>\n",
       "<style scoped>\n",
       "    .dataframe tbody tr th:only-of-type {\n",
       "        vertical-align: middle;\n",
       "    }\n",
       "\n",
       "    .dataframe tbody tr th {\n",
       "        vertical-align: top;\n",
       "    }\n",
       "\n",
       "    .dataframe thead th {\n",
       "        text-align: right;\n",
       "    }\n",
       "</style>\n",
       "<table border=\"1\" class=\"dataframe\">\n",
       "  <thead>\n",
       "    <tr style=\"text-align: right;\">\n",
       "      <th></th>\n",
       "      <th>ID_NOM</th>\n",
       "      <th>Niv_Etude_Bac</th>\n",
       "      <th>age</th>\n",
       "      <th>contrat_de_travail</th>\n",
       "      <th>Salaire</th>\n",
       "      <th>dette_anterieure</th>\n",
       "      <th>etat_civile</th>\n",
       "      <th>apport</th>\n",
       "      <th>enfant_a_Charge</th>\n",
       "      <th>Solvable</th>\n",
       "    </tr>\n",
       "  </thead>\n",
       "  <tbody>\n",
       "    <tr>\n",
       "      <th>0</th>\n",
       "      <td>jean</td>\n",
       "      <td>3.0</td>\n",
       "      <td>45</td>\n",
       "      <td>CDI</td>\n",
       "      <td>40000</td>\n",
       "      <td>4000</td>\n",
       "      <td>M</td>\n",
       "      <td>0.3</td>\n",
       "      <td>3.0</td>\n",
       "      <td>OUI</td>\n",
       "    </tr>\n",
       "    <tr>\n",
       "      <th>1</th>\n",
       "      <td>VANESSA</td>\n",
       "      <td>5.0</td>\n",
       "      <td>28</td>\n",
       "      <td>CDI</td>\n",
       "      <td>30500</td>\n",
       "      <td>1320</td>\n",
       "      <td>M</td>\n",
       "      <td>0.1</td>\n",
       "      <td>0.0</td>\n",
       "      <td>OUI</td>\n",
       "    </tr>\n",
       "    <tr>\n",
       "      <th>2</th>\n",
       "      <td>TARCISSE</td>\n",
       "      <td>0.0</td>\n",
       "      <td>55</td>\n",
       "      <td>CDI</td>\n",
       "      <td>28000</td>\n",
       "      <td>40000</td>\n",
       "      <td>C</td>\n",
       "      <td>0.0</td>\n",
       "      <td>0.0</td>\n",
       "      <td>NON</td>\n",
       "    </tr>\n",
       "    <tr>\n",
       "      <th>3</th>\n",
       "      <td>TIBAULT</td>\n",
       "      <td>4.0</td>\n",
       "      <td>23</td>\n",
       "      <td>CDD</td>\n",
       "      <td>15000</td>\n",
       "      <td>0</td>\n",
       "      <td>M</td>\n",
       "      <td>0.1</td>\n",
       "      <td>NaN</td>\n",
       "      <td>OUI</td>\n",
       "    </tr>\n",
       "    <tr>\n",
       "      <th>4</th>\n",
       "      <td>GILES</td>\n",
       "      <td>0.0</td>\n",
       "      <td>33</td>\n",
       "      <td>CDD</td>\n",
       "      <td>27000</td>\n",
       "      <td>3000</td>\n",
       "      <td>C</td>\n",
       "      <td>0.1</td>\n",
       "      <td>2.0</td>\n",
       "      <td>NON</td>\n",
       "    </tr>\n",
       "  </tbody>\n",
       "</table>\n",
       "</div>"
      ],
      "text/plain": [
       "     ID_NOM  Niv_Etude_Bac  age contrat_de_travail  Salaire  dette_anterieure  \\\n",
       "0      jean            3.0   45                CDI    40000              4000   \n",
       "1   VANESSA            5.0   28                CDI    30500              1320   \n",
       "2  TARCISSE            0.0   55                CDI    28000             40000   \n",
       "3   TIBAULT            4.0   23                CDD    15000                 0   \n",
       "4     GILES            0.0   33                CDD    27000              3000   \n",
       "\n",
       "  etat_civile  apport  enfant_a_Charge Solvable  \n",
       "0           M     0.3              3.0      OUI  \n",
       "1           M     0.1              0.0      OUI  \n",
       "2           C     0.0              0.0      NON  \n",
       "3           M     0.1              NaN      OUI  \n",
       "4           C     0.1              2.0      NON  "
      ]
     },
     "execution_count": 3,
     "metadata": {},
     "output_type": "execute_result"
    }
   ],
   "source": [
    "cd_immo = pd.read_csv(\"./base_donnees/credit_immo/credit_immo.csv\")\n",
    "\n",
    "cd_immo.head() # afficher les 5 premières lignes"
   ]
  },
  {
   "cell_type": "code",
   "execution_count": null,
   "id": "7e360705",
   "metadata": {},
   "outputs": [],
   "source": []
  }
 ],
 "metadata": {
  "kernelspec": {
   "display_name": "Python 3 (ipykernel)",
   "language": "python",
   "name": "python3"
  },
  "language_info": {
   "codemirror_mode": {
    "name": "ipython",
    "version": 3
   },
   "file_extension": ".py",
   "mimetype": "text/x-python",
   "name": "python",
   "nbconvert_exporter": "python",
   "pygments_lexer": "ipython3",
   "version": "3.9.7"
  }
 },
 "nbformat": 4,
 "nbformat_minor": 5
}
