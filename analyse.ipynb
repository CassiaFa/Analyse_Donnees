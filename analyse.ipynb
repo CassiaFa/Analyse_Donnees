{
 "cells": [
  {
   "cell_type": "markdown",
   "id": "882ec2a1",
   "metadata": {},
   "source": [
    "# Titre du brief"
   ]
  },
  {
   "cell_type": "markdown",
   "id": "1b84cd06",
   "metadata": {},
   "source": [
    "## Import des bibliothèques"
   ]
  },
  {
   "cell_type": "code",
   "execution_count": 37,
   "id": "e81486ed",
   "metadata": {},
   "outputs": [],
   "source": [
    "import pandas as pd\n",
    "import numpy as np\n",
    "import scipy as sp\n",
    "import matplotlib.pyplot as plt"
   ]
  },
  {
   "cell_type": "markdown",
   "id": "12c19c8c",
   "metadata": {},
   "source": [
    "### CSV"
   ]
  },
  {
   "cell_type": "code",
   "execution_count": 38,
   "id": "91d4c860",
   "metadata": {},
   "outputs": [
    {
     "data": {
      "text/html": [
       "<div>\n",
       "<style scoped>\n",
       "    .dataframe tbody tr th:only-of-type {\n",
       "        vertical-align: middle;\n",
       "    }\n",
       "\n",
       "    .dataframe tbody tr th {\n",
       "        vertical-align: top;\n",
       "    }\n",
       "\n",
       "    .dataframe thead th {\n",
       "        text-align: right;\n",
       "    }\n",
       "</style>\n",
       "<table border=\"1\" class=\"dataframe\">\n",
       "  <thead>\n",
       "    <tr style=\"text-align: right;\">\n",
       "      <th></th>\n",
       "      <th>ID_NOM</th>\n",
       "      <th>Niv_Etude_Bac</th>\n",
       "      <th>age</th>\n",
       "      <th>contrat_de_travail</th>\n",
       "      <th>Salaire</th>\n",
       "      <th>dette_anterieure</th>\n",
       "      <th>etat_civile</th>\n",
       "      <th>apport</th>\n",
       "      <th>enfant_a_Charge</th>\n",
       "      <th>Solvable</th>\n",
       "    </tr>\n",
       "  </thead>\n",
       "  <tbody>\n",
       "    <tr>\n",
       "      <th>0</th>\n",
       "      <td>jean</td>\n",
       "      <td>3.0</td>\n",
       "      <td>45</td>\n",
       "      <td>CDI</td>\n",
       "      <td>40000</td>\n",
       "      <td>4000</td>\n",
       "      <td>M</td>\n",
       "      <td>0.3</td>\n",
       "      <td>3.0</td>\n",
       "      <td>OUI</td>\n",
       "    </tr>\n",
       "    <tr>\n",
       "      <th>1</th>\n",
       "      <td>VANESSA</td>\n",
       "      <td>5.0</td>\n",
       "      <td>28</td>\n",
       "      <td>CDI</td>\n",
       "      <td>30500</td>\n",
       "      <td>1320</td>\n",
       "      <td>M</td>\n",
       "      <td>0.1</td>\n",
       "      <td>0.0</td>\n",
       "      <td>OUI</td>\n",
       "    </tr>\n",
       "    <tr>\n",
       "      <th>2</th>\n",
       "      <td>TARCISSE</td>\n",
       "      <td>0.0</td>\n",
       "      <td>55</td>\n",
       "      <td>CDI</td>\n",
       "      <td>28000</td>\n",
       "      <td>40000</td>\n",
       "      <td>C</td>\n",
       "      <td>0.0</td>\n",
       "      <td>0.0</td>\n",
       "      <td>NON</td>\n",
       "    </tr>\n",
       "    <tr>\n",
       "      <th>3</th>\n",
       "      <td>TIBAULT</td>\n",
       "      <td>4.0</td>\n",
       "      <td>23</td>\n",
       "      <td>CDD</td>\n",
       "      <td>15000</td>\n",
       "      <td>0</td>\n",
       "      <td>M</td>\n",
       "      <td>0.1</td>\n",
       "      <td>NaN</td>\n",
       "      <td>OUI</td>\n",
       "    </tr>\n",
       "    <tr>\n",
       "      <th>4</th>\n",
       "      <td>GILES</td>\n",
       "      <td>0.0</td>\n",
       "      <td>33</td>\n",
       "      <td>CDD</td>\n",
       "      <td>27000</td>\n",
       "      <td>3000</td>\n",
       "      <td>C</td>\n",
       "      <td>0.1</td>\n",
       "      <td>2.0</td>\n",
       "      <td>NON</td>\n",
       "    </tr>\n",
       "  </tbody>\n",
       "</table>\n",
       "</div>"
      ],
      "text/plain": [
       "     ID_NOM  Niv_Etude_Bac  age contrat_de_travail  Salaire  dette_anterieure  \\\n",
       "0      jean            3.0   45                CDI    40000              4000   \n",
       "1   VANESSA            5.0   28                CDI    30500              1320   \n",
       "2  TARCISSE            0.0   55                CDI    28000             40000   \n",
       "3   TIBAULT            4.0   23                CDD    15000                 0   \n",
       "4     GILES            0.0   33                CDD    27000              3000   \n",
       "\n",
       "  etat_civile  apport  enfant_a_Charge Solvable  \n",
       "0           M     0.3              3.0      OUI  \n",
       "1           M     0.1              0.0      OUI  \n",
       "2           C     0.0              0.0      NON  \n",
       "3           M     0.1              NaN      OUI  \n",
       "4           C     0.1              2.0      NON  "
      ]
     },
     "execution_count": 38,
     "metadata": {},
     "output_type": "execute_result"
    }
   ],
   "source": [
    "# lire fichier\n",
    "cd_immo = pd.read_csv(\"./base_donnees/credit_immo/credit_immo.csv\")\n",
    "\n",
    "cd_immo.head() # afficher les 5 premières lignes"
   ]
  },
  {
   "cell_type": "markdown",
   "id": "c900c5b5",
   "metadata": {},
   "source": [
    "### xls"
   ]
  },
  {
   "cell_type": "code",
   "execution_count": 39,
   "id": "06691fef",
   "metadata": {},
   "outputs": [
    {
     "data": {
      "text/html": [
       "<div>\n",
       "<style scoped>\n",
       "    .dataframe tbody tr th:only-of-type {\n",
       "        vertical-align: middle;\n",
       "    }\n",
       "\n",
       "    .dataframe tbody tr th {\n",
       "        vertical-align: top;\n",
       "    }\n",
       "\n",
       "    .dataframe thead th {\n",
       "        text-align: right;\n",
       "    }\n",
       "</style>\n",
       "<table border=\"1\" class=\"dataframe\">\n",
       "  <thead>\n",
       "    <tr style=\"text-align: right;\">\n",
       "      <th></th>\n",
       "      <th>ID_NOM</th>\n",
       "      <th>Niv_Etude_Bac</th>\n",
       "      <th>age</th>\n",
       "      <th>contrat_de_travail</th>\n",
       "      <th>Salaire</th>\n",
       "      <th>dette_anterieure</th>\n",
       "      <th>etat_civile</th>\n",
       "      <th>apport</th>\n",
       "      <th>enfant_a_Charge</th>\n",
       "      <th>Solvable</th>\n",
       "    </tr>\n",
       "  </thead>\n",
       "  <tbody>\n",
       "    <tr>\n",
       "      <th>0</th>\n",
       "      <td>jean</td>\n",
       "      <td>3.0</td>\n",
       "      <td>45</td>\n",
       "      <td>CDI</td>\n",
       "      <td>40000</td>\n",
       "      <td>4000</td>\n",
       "      <td>M</td>\n",
       "      <td>0.3</td>\n",
       "      <td>3.0</td>\n",
       "      <td>OUI</td>\n",
       "    </tr>\n",
       "    <tr>\n",
       "      <th>1</th>\n",
       "      <td>VANESSA</td>\n",
       "      <td>5.0</td>\n",
       "      <td>28</td>\n",
       "      <td>CDI</td>\n",
       "      <td>30500</td>\n",
       "      <td>1320</td>\n",
       "      <td>M</td>\n",
       "      <td>0.1</td>\n",
       "      <td>0.0</td>\n",
       "      <td>OUI</td>\n",
       "    </tr>\n",
       "    <tr>\n",
       "      <th>2</th>\n",
       "      <td>TARCISSE</td>\n",
       "      <td>0.0</td>\n",
       "      <td>55</td>\n",
       "      <td>CDI</td>\n",
       "      <td>28000</td>\n",
       "      <td>40000</td>\n",
       "      <td>C</td>\n",
       "      <td>0.0</td>\n",
       "      <td>0.0</td>\n",
       "      <td>NON</td>\n",
       "    </tr>\n",
       "    <tr>\n",
       "      <th>3</th>\n",
       "      <td>TIBAULT</td>\n",
       "      <td>4.0</td>\n",
       "      <td>23</td>\n",
       "      <td>CDD</td>\n",
       "      <td>15000</td>\n",
       "      <td>0</td>\n",
       "      <td>M</td>\n",
       "      <td>0.1</td>\n",
       "      <td>NaN</td>\n",
       "      <td>OUI</td>\n",
       "    </tr>\n",
       "    <tr>\n",
       "      <th>4</th>\n",
       "      <td>GILES</td>\n",
       "      <td>0.0</td>\n",
       "      <td>33</td>\n",
       "      <td>CDD</td>\n",
       "      <td>27000</td>\n",
       "      <td>3000</td>\n",
       "      <td>C</td>\n",
       "      <td>0.1</td>\n",
       "      <td>2.0</td>\n",
       "      <td>NON</td>\n",
       "    </tr>\n",
       "  </tbody>\n",
       "</table>\n",
       "</div>"
      ],
      "text/plain": [
       "     ID_NOM  Niv_Etude_Bac  age contrat_de_travail  Salaire  dette_anterieure  \\\n",
       "0      jean            3.0   45                CDI    40000              4000   \n",
       "1   VANESSA            5.0   28                CDI    30500              1320   \n",
       "2  TARCISSE            0.0   55                CDI    28000             40000   \n",
       "3   TIBAULT            4.0   23                CDD    15000                 0   \n",
       "4     GILES            0.0   33                CDD    27000              3000   \n",
       "\n",
       "  etat_civile  apport  enfant_a_Charge Solvable  \n",
       "0           M     0.3              3.0      OUI  \n",
       "1           M     0.1              0.0      OUI  \n",
       "2           C     0.0              0.0      NON  \n",
       "3           M     0.1              NaN      OUI  \n",
       "4           C     0.1              2.0      NON  "
      ]
     },
     "execution_count": 39,
     "metadata": {},
     "output_type": "execute_result"
    }
   ],
   "source": [
    "cd_immo_excel = pd.read_excel(\"./base_donnees/credit_immo/credit_immo.xls\")\n",
    "\n",
    "cd_immo_excel.head()"
   ]
  },
  {
   "cell_type": "markdown",
   "id": "06e79fde",
   "metadata": {},
   "source": [
    "###  JSON"
   ]
  },
  {
   "cell_type": "code",
   "execution_count": 40,
   "id": "f94cdc50",
   "metadata": {},
   "outputs": [
    {
     "data": {
      "text/html": [
       "<div>\n",
       "<style scoped>\n",
       "    .dataframe tbody tr th:only-of-type {\n",
       "        vertical-align: middle;\n",
       "    }\n",
       "\n",
       "    .dataframe tbody tr th {\n",
       "        vertical-align: top;\n",
       "    }\n",
       "\n",
       "    .dataframe thead th {\n",
       "        text-align: right;\n",
       "    }\n",
       "</style>\n",
       "<table border=\"1\" class=\"dataframe\">\n",
       "  <thead>\n",
       "    <tr style=\"text-align: right;\">\n",
       "      <th></th>\n",
       "      <th>Salaire</th>\n",
       "      <th>ID_NOM</th>\n",
       "      <th>dette_anterieure</th>\n",
       "      <th>apport</th>\n",
       "      <th>contrat_de_travail</th>\n",
       "      <th>enfant_a_Charge</th>\n",
       "      <th>etat_civile</th>\n",
       "      <th>Solvable</th>\n",
       "      <th>age</th>\n",
       "      <th>Niv_Etude_Bac</th>\n",
       "    </tr>\n",
       "  </thead>\n",
       "  <tbody>\n",
       "    <tr>\n",
       "      <th>0</th>\n",
       "      <td>40000</td>\n",
       "      <td>jean</td>\n",
       "      <td>4000</td>\n",
       "      <td>0.3</td>\n",
       "      <td>CDI</td>\n",
       "      <td>3</td>\n",
       "      <td>M</td>\n",
       "      <td>OUI</td>\n",
       "      <td>45</td>\n",
       "      <td>3</td>\n",
       "    </tr>\n",
       "    <tr>\n",
       "      <th>1</th>\n",
       "      <td>30500</td>\n",
       "      <td>VANESSA</td>\n",
       "      <td>1320</td>\n",
       "      <td>0.1</td>\n",
       "      <td>CDI</td>\n",
       "      <td>0</td>\n",
       "      <td>M</td>\n",
       "      <td>OUI</td>\n",
       "      <td>28</td>\n",
       "      <td>5</td>\n",
       "    </tr>\n",
       "    <tr>\n",
       "      <th>2</th>\n",
       "      <td>28000</td>\n",
       "      <td>TARCISSE</td>\n",
       "      <td>40000</td>\n",
       "      <td>0.0</td>\n",
       "      <td>CDI</td>\n",
       "      <td>0</td>\n",
       "      <td>C</td>\n",
       "      <td>NON</td>\n",
       "      <td>55</td>\n",
       "      <td>0</td>\n",
       "    </tr>\n",
       "    <tr>\n",
       "      <th>3</th>\n",
       "      <td>15000</td>\n",
       "      <td>TIBAULT</td>\n",
       "      <td>0</td>\n",
       "      <td>0.1</td>\n",
       "      <td>CDD</td>\n",
       "      <td></td>\n",
       "      <td>M</td>\n",
       "      <td>OUI</td>\n",
       "      <td>23</td>\n",
       "      <td>4</td>\n",
       "    </tr>\n",
       "    <tr>\n",
       "      <th>4</th>\n",
       "      <td>27000</td>\n",
       "      <td>GILES</td>\n",
       "      <td>3000</td>\n",
       "      <td>0.1</td>\n",
       "      <td>CDD</td>\n",
       "      <td>2</td>\n",
       "      <td>C</td>\n",
       "      <td>NON</td>\n",
       "      <td>33</td>\n",
       "      <td>0</td>\n",
       "    </tr>\n",
       "  </tbody>\n",
       "</table>\n",
       "</div>"
      ],
      "text/plain": [
       "   Salaire    ID_NOM  dette_anterieure  apport contrat_de_travail  \\\n",
       "0    40000      jean              4000     0.3                CDI   \n",
       "1    30500   VANESSA              1320     0.1                CDI   \n",
       "2    28000  TARCISSE             40000     0.0                CDI   \n",
       "3    15000   TIBAULT                 0     0.1                CDD   \n",
       "4    27000     GILES              3000     0.1                CDD   \n",
       "\n",
       "  enfant_a_Charge etat_civile Solvable  age Niv_Etude_Bac  \n",
       "0               3           M      OUI   45             3  \n",
       "1               0           M      OUI   28             5  \n",
       "2               0           C      NON   55             0  \n",
       "3                           M      OUI   23             4  \n",
       "4               2           C      NON   33             0  "
      ]
     },
     "execution_count": 40,
     "metadata": {},
     "output_type": "execute_result"
    }
   ],
   "source": [
    "cd_immo_json = pd.read_json(\"./base_donnees/credit_immo/credit_immo.json\")\n",
    "\n",
    "cd_immo_json.head()"
   ]
  },
  {
   "cell_type": "code",
   "execution_count": 41,
   "id": "5f8de8d1",
   "metadata": {},
   "outputs": [],
   "source": [
    "# création bdd\n",
    "data = np.random.randn(6, 4)"
   ]
  },
  {
   "cell_type": "code",
   "execution_count": 42,
   "id": "92290220",
   "metadata": {},
   "outputs": [
    {
     "name": "stdout",
     "output_type": "stream",
     "text": [
      "   taux_de_ventes  croissance_vente  ratio_benefice  ratio_perte\n",
      "0        0.834010         -1.066688       -1.216349     0.007287\n",
      "1       -1.026476          0.841939        0.619241    -0.682808\n",
      "2       -2.304500         -0.557334       -0.043585    -0.008472\n",
      "3        1.933955         -1.101795       -0.876300    -0.688079\n",
      "4       -0.830748          0.696887       -1.866017    -0.550221\n",
      "5       -0.911083          1.116146       -0.772742     0.724083\n"
     ]
    }
   ],
   "source": [
    "# création tableau\n",
    "bd = ['taux_de_ventes', 'croissance_vente', 'ratio_benefice', 'ratio_perte']\n",
    "# création DataFrame (données, colonnes)\n",
    "bdd = pd.DataFrame(data, columns = bd)\n",
    "print(bdd)"
   ]
  },
  {
   "cell_type": "code",
   "execution_count": 43,
   "id": "f3db84d4",
   "metadata": {},
   "outputs": [
    {
     "name": "stdout",
     "output_type": "stream",
     "text": [
      "   taux_de_ventes  croissance_vente  ratio_benefice  ratio_perte\n",
      "0        0.834010         -1.066688       -1.216349     0.007287\n",
      "1       -1.026476          0.841939        0.619241    -0.682808\n",
      "2       -2.304500         -0.557334       -0.043585    -0.008472\n",
      "3        1.933955         -1.101795       -0.876300    -0.688079\n",
      "4       -0.830748          0.696887       -1.866017    -0.550221\n",
      "5       -0.911083          1.116146       -0.772742     0.724083\n",
      "6             NaN               NaN             NaN          NaN\n"
     ]
    }
   ],
   "source": [
    "# ajouter valeur manquantes\n",
    "bdd = bdd.reindex([0,1,2,3,4,5,6])\n",
    "print(bdd)"
   ]
  },
  {
   "cell_type": "code",
   "execution_count": 44,
   "id": "8186999f",
   "metadata": {},
   "outputs": [
    {
     "data": {
      "text/html": [
       "<div>\n",
       "<style scoped>\n",
       "    .dataframe tbody tr th:only-of-type {\n",
       "        vertical-align: middle;\n",
       "    }\n",
       "\n",
       "    .dataframe tbody tr th {\n",
       "        vertical-align: top;\n",
       "    }\n",
       "\n",
       "    .dataframe thead th {\n",
       "        text-align: right;\n",
       "    }\n",
       "</style>\n",
       "<table border=\"1\" class=\"dataframe\">\n",
       "  <thead>\n",
       "    <tr style=\"text-align: right;\">\n",
       "      <th></th>\n",
       "      <th>taux_de_ventes</th>\n",
       "      <th>croissance_vente</th>\n",
       "      <th>ratio_benefice</th>\n",
       "      <th>ratio_perte</th>\n",
       "    </tr>\n",
       "  </thead>\n",
       "  <tbody>\n",
       "    <tr>\n",
       "      <th>0</th>\n",
       "      <td>False</td>\n",
       "      <td>False</td>\n",
       "      <td>False</td>\n",
       "      <td>False</td>\n",
       "    </tr>\n",
       "    <tr>\n",
       "      <th>1</th>\n",
       "      <td>False</td>\n",
       "      <td>False</td>\n",
       "      <td>False</td>\n",
       "      <td>False</td>\n",
       "    </tr>\n",
       "    <tr>\n",
       "      <th>2</th>\n",
       "      <td>False</td>\n",
       "      <td>False</td>\n",
       "      <td>False</td>\n",
       "      <td>False</td>\n",
       "    </tr>\n",
       "    <tr>\n",
       "      <th>3</th>\n",
       "      <td>False</td>\n",
       "      <td>False</td>\n",
       "      <td>False</td>\n",
       "      <td>False</td>\n",
       "    </tr>\n",
       "    <tr>\n",
       "      <th>4</th>\n",
       "      <td>False</td>\n",
       "      <td>False</td>\n",
       "      <td>False</td>\n",
       "      <td>False</td>\n",
       "    </tr>\n",
       "    <tr>\n",
       "      <th>5</th>\n",
       "      <td>False</td>\n",
       "      <td>False</td>\n",
       "      <td>False</td>\n",
       "      <td>False</td>\n",
       "    </tr>\n",
       "    <tr>\n",
       "      <th>6</th>\n",
       "      <td>True</td>\n",
       "      <td>True</td>\n",
       "      <td>True</td>\n",
       "      <td>True</td>\n",
       "    </tr>\n",
       "  </tbody>\n",
       "</table>\n",
       "</div>"
      ],
      "text/plain": [
       "   taux_de_ventes  croissance_vente  ratio_benefice  ratio_perte\n",
       "0           False             False           False        False\n",
       "1           False             False           False        False\n",
       "2           False             False           False        False\n",
       "3           False             False           False        False\n",
       "4           False             False           False        False\n",
       "5           False             False           False        False\n",
       "6            True              True            True         True"
      ]
     },
     "execution_count": 44,
     "metadata": {},
     "output_type": "execute_result"
    }
   ],
   "source": [
    "# si c'est vide c'est True\n",
    "bdd.isnull()"
   ]
  },
  {
   "cell_type": "code",
   "execution_count": 45,
   "id": "40398475",
   "metadata": {},
   "outputs": [
    {
     "data": {
      "text/html": [
       "<div>\n",
       "<style scoped>\n",
       "    .dataframe tbody tr th:only-of-type {\n",
       "        vertical-align: middle;\n",
       "    }\n",
       "\n",
       "    .dataframe tbody tr th {\n",
       "        vertical-align: top;\n",
       "    }\n",
       "\n",
       "    .dataframe thead th {\n",
       "        text-align: right;\n",
       "    }\n",
       "</style>\n",
       "<table border=\"1\" class=\"dataframe\">\n",
       "  <thead>\n",
       "    <tr style=\"text-align: right;\">\n",
       "      <th></th>\n",
       "      <th>taux_de_ventes</th>\n",
       "      <th>croissance_vente</th>\n",
       "      <th>ratio_benefice</th>\n",
       "      <th>ratio_perte</th>\n",
       "    </tr>\n",
       "  </thead>\n",
       "  <tbody>\n",
       "    <tr>\n",
       "      <th>0</th>\n",
       "      <td>0.834010</td>\n",
       "      <td>-1.066688</td>\n",
       "      <td>-1.216349</td>\n",
       "      <td>0.007287</td>\n",
       "    </tr>\n",
       "    <tr>\n",
       "      <th>1</th>\n",
       "      <td>-1.026476</td>\n",
       "      <td>0.841939</td>\n",
       "      <td>0.619241</td>\n",
       "      <td>-0.682808</td>\n",
       "    </tr>\n",
       "    <tr>\n",
       "      <th>2</th>\n",
       "      <td>-2.304500</td>\n",
       "      <td>-0.557334</td>\n",
       "      <td>-0.043585</td>\n",
       "      <td>-0.008472</td>\n",
       "    </tr>\n",
       "    <tr>\n",
       "      <th>3</th>\n",
       "      <td>1.933955</td>\n",
       "      <td>-1.101795</td>\n",
       "      <td>-0.876300</td>\n",
       "      <td>-0.688079</td>\n",
       "    </tr>\n",
       "    <tr>\n",
       "      <th>4</th>\n",
       "      <td>-0.830748</td>\n",
       "      <td>0.696887</td>\n",
       "      <td>-1.866017</td>\n",
       "      <td>-0.550221</td>\n",
       "    </tr>\n",
       "    <tr>\n",
       "      <th>5</th>\n",
       "      <td>-0.911083</td>\n",
       "      <td>1.116146</td>\n",
       "      <td>-0.772742</td>\n",
       "      <td>0.724083</td>\n",
       "    </tr>\n",
       "    <tr>\n",
       "      <th>6</th>\n",
       "      <td>0.000000</td>\n",
       "      <td>0.000000</td>\n",
       "      <td>0.000000</td>\n",
       "      <td>0.000000</td>\n",
       "    </tr>\n",
       "  </tbody>\n",
       "</table>\n",
       "</div>"
      ],
      "text/plain": [
       "   taux_de_ventes  croissance_vente  ratio_benefice  ratio_perte\n",
       "0        0.834010         -1.066688       -1.216349     0.007287\n",
       "1       -1.026476          0.841939        0.619241    -0.682808\n",
       "2       -2.304500         -0.557334       -0.043585    -0.008472\n",
       "3        1.933955         -1.101795       -0.876300    -0.688079\n",
       "4       -0.830748          0.696887       -1.866017    -0.550221\n",
       "5       -0.911083          1.116146       -0.772742     0.724083\n",
       "6        0.000000          0.000000        0.000000     0.000000"
      ]
     },
     "execution_count": 45,
     "metadata": {},
     "output_type": "execute_result"
    }
   ],
   "source": [
    "# remplacer les valeurs manquantes par 0\n",
    "bdd.fillna(0)"
   ]
  },
  {
   "cell_type": "code",
   "execution_count": 46,
   "id": "f93f922b",
   "metadata": {},
   "outputs": [
    {
     "name": "stdout",
     "output_type": "stream",
     "text": [
      "   taux_de_ventes  croissance_vente  ratio_benefice  ratio_perte\n",
      "0        0.834010         -1.066688       -1.216349     0.007287\n",
      "1       -1.026476          0.841939        0.619241    -0.682808\n",
      "2       -2.304500         -0.557334       -0.043585    -0.008472\n",
      "3        1.933955         -1.101795       -0.876300    -0.688079\n",
      "4       -0.830748          0.696887       -1.866017    -0.550221\n",
      "5       -0.911083          1.116146       -0.772742     0.724083\n"
     ]
    }
   ],
   "source": [
    "# supprimer valeurs manquantes\n",
    "bdd = bdd.dropna()\n",
    "print(bdd)"
   ]
  },
  {
   "cell_type": "markdown",
   "id": "d413266e",
   "metadata": {},
   "source": [
    "3 Traitement des données"
   ]
  },
  {
   "cell_type": "code",
   "execution_count": 47,
   "id": "2d02b130",
   "metadata": {},
   "outputs": [],
   "source": [
    "# import bibliothèques\n",
    "from sklearn.impute import SimpleImputer\n",
    "from sklearn.preprocessing import LabelEncoder, StandardScaler\n",
    "from sklearn.model_selection import train_test_split"
   ]
  },
  {
   "cell_type": "code",
   "execution_count": 48,
   "id": "80e96c67",
   "metadata": {},
   "outputs": [],
   "source": [
    "# import jeu de données\n",
    "cd_immo = pd.read_csv(\"./base_donnees/credit_immo/credit_immo.csv\")"
   ]
  },
  {
   "cell_type": "code",
   "execution_count": 49,
   "id": "b067130f",
   "metadata": {},
   "outputs": [],
   "source": [
    "# transformer jeu de données en moyenne\n",
    "imputer = SimpleImputer()\n",
    "imputer = imputer.fit(cd_immo.select_dtypes(include='number'))\n",
    "cd_immo[cd_immo.select_dtypes(include='number').columns] = imputer.transform(cd_immo.select_dtypes(include='number'))"
   ]
  },
  {
   "cell_type": "code",
   "execution_count": 50,
   "id": "be7b88fb",
   "metadata": {},
   "outputs": [
    {
     "data": {
      "text/html": [
       "<div>\n",
       "<style scoped>\n",
       "    .dataframe tbody tr th:only-of-type {\n",
       "        vertical-align: middle;\n",
       "    }\n",
       "\n",
       "    .dataframe tbody tr th {\n",
       "        vertical-align: top;\n",
       "    }\n",
       "\n",
       "    .dataframe thead th {\n",
       "        text-align: right;\n",
       "    }\n",
       "</style>\n",
       "<table border=\"1\" class=\"dataframe\">\n",
       "  <thead>\n",
       "    <tr style=\"text-align: right;\">\n",
       "      <th></th>\n",
       "      <th>ID_NOM</th>\n",
       "      <th>Niv_Etude_Bac</th>\n",
       "      <th>age</th>\n",
       "      <th>contrat_de_travail</th>\n",
       "      <th>Salaire</th>\n",
       "      <th>dette_anterieure</th>\n",
       "      <th>etat_civile</th>\n",
       "      <th>apport</th>\n",
       "      <th>enfant_a_Charge</th>\n",
       "      <th>Solvable</th>\n",
       "    </tr>\n",
       "  </thead>\n",
       "  <tbody>\n",
       "    <tr>\n",
       "      <th>0</th>\n",
       "      <td>jean</td>\n",
       "      <td>3.0</td>\n",
       "      <td>45.0</td>\n",
       "      <td>CDI</td>\n",
       "      <td>40000.0</td>\n",
       "      <td>4000.0</td>\n",
       "      <td>M</td>\n",
       "      <td>0.3</td>\n",
       "      <td>3.000000</td>\n",
       "      <td>OUI</td>\n",
       "    </tr>\n",
       "    <tr>\n",
       "      <th>1</th>\n",
       "      <td>VANESSA</td>\n",
       "      <td>5.0</td>\n",
       "      <td>28.0</td>\n",
       "      <td>CDI</td>\n",
       "      <td>30500.0</td>\n",
       "      <td>1320.0</td>\n",
       "      <td>M</td>\n",
       "      <td>0.1</td>\n",
       "      <td>0.000000</td>\n",
       "      <td>OUI</td>\n",
       "    </tr>\n",
       "    <tr>\n",
       "      <th>2</th>\n",
       "      <td>TARCISSE</td>\n",
       "      <td>0.0</td>\n",
       "      <td>55.0</td>\n",
       "      <td>CDI</td>\n",
       "      <td>28000.0</td>\n",
       "      <td>40000.0</td>\n",
       "      <td>C</td>\n",
       "      <td>0.0</td>\n",
       "      <td>0.000000</td>\n",
       "      <td>NON</td>\n",
       "    </tr>\n",
       "    <tr>\n",
       "      <th>3</th>\n",
       "      <td>TIBAULT</td>\n",
       "      <td>4.0</td>\n",
       "      <td>23.0</td>\n",
       "      <td>CDD</td>\n",
       "      <td>15000.0</td>\n",
       "      <td>0.0</td>\n",
       "      <td>M</td>\n",
       "      <td>0.1</td>\n",
       "      <td>1.333333</td>\n",
       "      <td>OUI</td>\n",
       "    </tr>\n",
       "    <tr>\n",
       "      <th>4</th>\n",
       "      <td>GILES</td>\n",
       "      <td>0.0</td>\n",
       "      <td>33.0</td>\n",
       "      <td>CDD</td>\n",
       "      <td>27000.0</td>\n",
       "      <td>3000.0</td>\n",
       "      <td>C</td>\n",
       "      <td>0.1</td>\n",
       "      <td>2.000000</td>\n",
       "      <td>NON</td>\n",
       "    </tr>\n",
       "  </tbody>\n",
       "</table>\n",
       "</div>"
      ],
      "text/plain": [
       "     ID_NOM  Niv_Etude_Bac   age contrat_de_travail  Salaire  \\\n",
       "0      jean            3.0  45.0                CDI  40000.0   \n",
       "1   VANESSA            5.0  28.0                CDI  30500.0   \n",
       "2  TARCISSE            0.0  55.0                CDI  28000.0   \n",
       "3   TIBAULT            4.0  23.0                CDD  15000.0   \n",
       "4     GILES            0.0  33.0                CDD  27000.0   \n",
       "\n",
       "   dette_anterieure etat_civile  apport  enfant_a_Charge Solvable  \n",
       "0            4000.0           M     0.3         3.000000      OUI  \n",
       "1            1320.0           M     0.1         0.000000      OUI  \n",
       "2           40000.0           C     0.0         0.000000      NON  \n",
       "3               0.0           M     0.1         1.333333      OUI  \n",
       "4            3000.0           C     0.1         2.000000      NON  "
      ]
     },
     "execution_count": 50,
     "metadata": {},
     "output_type": "execute_result"
    }
   ],
   "source": [
    "cd_immo.head()"
   ]
  },
  {
   "cell_type": "code",
   "execution_count": 51,
   "id": "1dec01c6",
   "metadata": {},
   "outputs": [],
   "source": [
    "# declarer variable le avec la fonction\n",
    "le = LabelEncoder()"
   ]
  },
  {
   "cell_type": "code",
   "execution_count": 52,
   "id": "8f3b312d",
   "metadata": {},
   "outputs": [
    {
     "name": "stdout",
     "output_type": "stream",
     "text": [
      "Index(['ID_NOM', 'contrat_de_travail', 'etat_civile', 'Solvable'], dtype='object')\n"
     ]
    }
   ],
   "source": [
    "# récupérer les noms des colonnes contenants des objets\n",
    "label_categ = cd_immo.select_dtypes(include='object').columns\n",
    "print(label_categ)"
   ]
  },
  {
   "cell_type": "code",
   "execution_count": 53,
   "id": "9eb6a1d3",
   "metadata": {},
   "outputs": [],
   "source": [
    "# boucle afin de traîter toutes les colonnes\n",
    "for i in label_categ[1:]:\n",
    "    cd_immo[i]  = le.fit_transform(cd_immo[i])"
   ]
  },
  {
   "cell_type": "code",
   "execution_count": 54,
   "id": "bd50652f",
   "metadata": {},
   "outputs": [
    {
     "data": {
      "text/html": [
       "<div>\n",
       "<style scoped>\n",
       "    .dataframe tbody tr th:only-of-type {\n",
       "        vertical-align: middle;\n",
       "    }\n",
       "\n",
       "    .dataframe tbody tr th {\n",
       "        vertical-align: top;\n",
       "    }\n",
       "\n",
       "    .dataframe thead th {\n",
       "        text-align: right;\n",
       "    }\n",
       "</style>\n",
       "<table border=\"1\" class=\"dataframe\">\n",
       "  <thead>\n",
       "    <tr style=\"text-align: right;\">\n",
       "      <th></th>\n",
       "      <th>ID_NOM</th>\n",
       "      <th>Niv_Etude_Bac</th>\n",
       "      <th>age</th>\n",
       "      <th>contrat_de_travail</th>\n",
       "      <th>Salaire</th>\n",
       "      <th>dette_anterieure</th>\n",
       "      <th>etat_civile</th>\n",
       "      <th>apport</th>\n",
       "      <th>enfant_a_Charge</th>\n",
       "      <th>Solvable</th>\n",
       "    </tr>\n",
       "  </thead>\n",
       "  <tbody>\n",
       "    <tr>\n",
       "      <th>0</th>\n",
       "      <td>jean</td>\n",
       "      <td>3.0</td>\n",
       "      <td>45.0</td>\n",
       "      <td>1</td>\n",
       "      <td>40000.0</td>\n",
       "      <td>4000.0</td>\n",
       "      <td>1</td>\n",
       "      <td>0.3</td>\n",
       "      <td>3.000000</td>\n",
       "      <td>1</td>\n",
       "    </tr>\n",
       "    <tr>\n",
       "      <th>1</th>\n",
       "      <td>VANESSA</td>\n",
       "      <td>5.0</td>\n",
       "      <td>28.0</td>\n",
       "      <td>1</td>\n",
       "      <td>30500.0</td>\n",
       "      <td>1320.0</td>\n",
       "      <td>1</td>\n",
       "      <td>0.1</td>\n",
       "      <td>0.000000</td>\n",
       "      <td>1</td>\n",
       "    </tr>\n",
       "    <tr>\n",
       "      <th>2</th>\n",
       "      <td>TARCISSE</td>\n",
       "      <td>0.0</td>\n",
       "      <td>55.0</td>\n",
       "      <td>1</td>\n",
       "      <td>28000.0</td>\n",
       "      <td>40000.0</td>\n",
       "      <td>0</td>\n",
       "      <td>0.0</td>\n",
       "      <td>0.000000</td>\n",
       "      <td>0</td>\n",
       "    </tr>\n",
       "    <tr>\n",
       "      <th>3</th>\n",
       "      <td>TIBAULT</td>\n",
       "      <td>4.0</td>\n",
       "      <td>23.0</td>\n",
       "      <td>0</td>\n",
       "      <td>15000.0</td>\n",
       "      <td>0.0</td>\n",
       "      <td>1</td>\n",
       "      <td>0.1</td>\n",
       "      <td>1.333333</td>\n",
       "      <td>1</td>\n",
       "    </tr>\n",
       "    <tr>\n",
       "      <th>4</th>\n",
       "      <td>GILES</td>\n",
       "      <td>0.0</td>\n",
       "      <td>33.0</td>\n",
       "      <td>0</td>\n",
       "      <td>27000.0</td>\n",
       "      <td>3000.0</td>\n",
       "      <td>0</td>\n",
       "      <td>0.1</td>\n",
       "      <td>2.000000</td>\n",
       "      <td>0</td>\n",
       "    </tr>\n",
       "  </tbody>\n",
       "</table>\n",
       "</div>"
      ],
      "text/plain": [
       "     ID_NOM  Niv_Etude_Bac   age  contrat_de_travail  Salaire  \\\n",
       "0      jean            3.0  45.0                   1  40000.0   \n",
       "1   VANESSA            5.0  28.0                   1  30500.0   \n",
       "2  TARCISSE            0.0  55.0                   1  28000.0   \n",
       "3   TIBAULT            4.0  23.0                   0  15000.0   \n",
       "4     GILES            0.0  33.0                   0  27000.0   \n",
       "\n",
       "   dette_anterieure  etat_civile  apport  enfant_a_Charge  Solvable  \n",
       "0            4000.0            1     0.3         3.000000         1  \n",
       "1            1320.0            1     0.1         0.000000         1  \n",
       "2           40000.0            0     0.0         0.000000         0  \n",
       "3               0.0            1     0.1         1.333333         1  \n",
       "4            3000.0            0     0.1         2.000000         0  "
      ]
     },
     "execution_count": 54,
     "metadata": {},
     "output_type": "execute_result"
    }
   ],
   "source": [
    "cd_immo.head()"
   ]
  },
  {
   "cell_type": "code",
   "execution_count": 55,
   "id": "3d2735c9",
   "metadata": {},
   "outputs": [
    {
     "name": "stdout",
     "output_type": "stream",
     "text": [
      "[[ 0.58477783  0.69964472 -0.16929979 -0.15939982 -0.34223088  0.67936622\n",
      "   1.24354001  1.32637071]\n",
      " [ 1.33663503 -0.77738303 -0.16929979 -0.61392855 -0.45846885  0.67936622\n",
      "  -0.33161067 -1.06109657]\n",
      " [-0.54300798  1.56848458 -0.16929979 -0.73354137  1.21917467 -1.47196014\n",
      "  -1.11918601 -1.06109657]\n",
      " [ 0.96070643 -1.21180295 -1.24153183 -1.35552804 -0.51572038  0.67936622\n",
      "  -0.33161067  0.        ]\n",
      " [-0.54300798 -0.3429631  -1.24153183 -0.7813865  -0.38560325 -1.47196014\n",
      "  -0.33161067  0.53054828]\n",
      " [-0.54300798  0.35210878  1.97516427 -0.15939982 -0.47234801  0.67936622\n",
      "  -1.11918601  2.12219314]\n",
      " [-0.91893658 -0.69049904 -0.16929979  0.31905146 -0.38560325 -1.47196014\n",
      "  -1.11918601 -1.06109657]\n",
      " [-1.67079379 -1.12491897  1.97516427 -0.68569624 -0.2988585  -1.47196014\n",
      "  -1.11918601 -1.06109657]\n",
      " [ 0.         -0.951151   -0.16929979  0.03198069 -0.51572038  0.67936622\n",
      "  -0.33161067 -0.26527414]\n",
      " [ 0.58477783  0.00457284 -0.16929979  0.11810192 -0.42897563  0.67936622\n",
      "   0.45596467  0.53054828]\n",
      " [ 0.20884922  0.2652248  -0.16929979  0.79750275 -0.45066182  0.67936622\n",
      "   1.24354001  1.32637071]\n",
      " [-0.54300798  0.09145683 -1.24153183 -0.82923162 -0.16874137 -1.47196014\n",
      "   2.03111535 -1.06109657]\n",
      " [-1.67079379  0.17834081  1.97516427 -0.68569624 -0.30319574  0.67936622\n",
      "  -1.11918601 -0.26527414]\n",
      " [-0.54300798 -0.51673107 -0.16929979 -0.01586444  3.82151725  0.67936622\n",
      "   0.45596467  0.53054828]\n",
      " [-0.16707938  2.87174436 -1.24153183  0.07982582  0.22161002 -1.47196014\n",
      "   1.24354001 -1.06109657]\n",
      " [-0.54300798  0.43899277  0.90293224  1.27595404  0.6119614   0.67936622\n",
      "   0.45596467 -1.06109657]\n",
      " [ 2.46442084  0.78652871 -0.16929979  1.75440532 -0.16874137  0.67936622\n",
      "  -1.11918601  1.32637071]\n",
      " [ 0.58477783 -1.21180295 -0.16929979  2.7113079  -0.51572038  0.67936622\n",
      "   1.24354001 -0.26527414]\n",
      " [ 0.96070643 -0.42984709 -0.16929979 -1.06845727 -0.46367353  0.67936622\n",
      "  -0.33161067  0.53054828]]\n"
     ]
    }
   ],
   "source": [
    "#Mise à l’échelle des features (StandardScaler).\n",
    "scaler = StandardScaler()\n",
    "scaled = scaler.fit_transform(cd_immo.iloc[:,1:-1])\n",
    "print(scaled)"
   ]
  },
  {
   "cell_type": "code",
   "execution_count": 56,
   "id": "16add715",
   "metadata": {},
   "outputs": [],
   "source": [
    "#Fractionner le jeu de données pour l’entrainement et le test (Training and Test set)\n",
    "X_train, X_test, y_train, y_test = train_test_split(scaled, cd_immo['Solvable'], test_size=0.2)\n"
   ]
  },
  {
   "cell_type": "markdown",
   "id": "97f6e8bd",
   "metadata": {},
   "source": [
    "4-Visualisation des données"
   ]
  },
  {
   "cell_type": "code",
   "execution_count": 57,
   "id": "3d6346f6",
   "metadata": {},
   "outputs": [],
   "source": [
    "montant_tps = pd.read_csv(\"./base_donnees/Montant_Temps.csv\")"
   ]
  },
  {
   "cell_type": "code",
   "execution_count": 58,
   "id": "f8573400",
   "metadata": {},
   "outputs": [
    {
     "data": {
      "text/html": [
       "<div>\n",
       "<style scoped>\n",
       "    .dataframe tbody tr th:only-of-type {\n",
       "        vertical-align: middle;\n",
       "    }\n",
       "\n",
       "    .dataframe tbody tr th {\n",
       "        vertical-align: top;\n",
       "    }\n",
       "\n",
       "    .dataframe thead th {\n",
       "        text-align: right;\n",
       "    }\n",
       "</style>\n",
       "<table border=\"1\" class=\"dataframe\">\n",
       "  <thead>\n",
       "    <tr style=\"text-align: right;\">\n",
       "      <th></th>\n",
       "      <th>Montant_du_capitale</th>\n",
       "      <th>Temps</th>\n",
       "    </tr>\n",
       "  </thead>\n",
       "  <tbody>\n",
       "    <tr>\n",
       "      <th>0</th>\n",
       "      <td>1</td>\n",
       "      <td>5</td>\n",
       "    </tr>\n",
       "    <tr>\n",
       "      <th>1</th>\n",
       "      <td>12</td>\n",
       "      <td>6</td>\n",
       "    </tr>\n",
       "    <tr>\n",
       "      <th>2</th>\n",
       "      <td>13</td>\n",
       "      <td>7</td>\n",
       "    </tr>\n",
       "    <tr>\n",
       "      <th>3</th>\n",
       "      <td>2</td>\n",
       "      <td>8</td>\n",
       "    </tr>\n",
       "    <tr>\n",
       "      <th>4</th>\n",
       "      <td>3</td>\n",
       "      <td>9</td>\n",
       "    </tr>\n",
       "  </tbody>\n",
       "</table>\n",
       "</div>"
      ],
      "text/plain": [
       "   Montant_du_capitale  Temps\n",
       "0                    1      5\n",
       "1                   12      6\n",
       "2                   13      7\n",
       "3                    2      8\n",
       "4                    3      9"
      ]
     },
     "execution_count": 58,
     "metadata": {},
     "output_type": "execute_result"
    }
   ],
   "source": [
    "montant_tps.head()"
   ]
  },
  {
   "cell_type": "code",
   "execution_count": 59,
   "id": "3c1e9ed2",
   "metadata": {},
   "outputs": [
    {
     "data": {
      "image/png": "[encoded data removed]",
      "text/plain": [
       "<Figure size 432x288 with 1 Axes>"
      ]
     },
     "metadata": {
      "needs_background": "light"
     },
     "output_type": "display_data"
    }
   ],
   "source": [
    "x = montant_tps.iloc[:,1]\n",
    "y = montant_tps.iloc[:,0]\n",
    "plt.plot(x, y)\n",
    "plt.show()"
   ]
  },
  {
   "cell_type": "markdown",
   "id": "ba65132b",
   "metadata": {},
   "source": [
    "4.1 - Rajoutez du style à vos graphiques"
   ]
  },
  {
   "cell_type": "code",
   "execution_count": 61,
   "id": "b0d5fdd6",
   "metadata": {},
   "outputs": [
    {
     "data": {
      "image/png": "[encoded data removed]",
      "text/plain": [
       "<Figure size 432x288 with 1 Axes>"
      ]
     },
     "metadata": {
      "needs_background": "light"
     },
     "output_type": "display_data"
    }
   ],
   "source": [
    "# création , ajout titre et libellé abscisse/ordonnés\n",
    "plt.figure()\n",
    "montant_tps = plt.subplot()\n",
    "l = montant_tps.fill_between(x, y)\n",
    "montant_tps.set_xlim(0, 50)\n",
    "montant_tps.set_ylim(0, 50)\n",
    "plt.title(\"Montant Temps\")\n",
    "montant_tps = montant_tps.set(xlabel='Temps', ylabel='Montant du Capital')\n",
    "plt.show()"
   ]
  },
  {
   "cell_type": "markdown",
   "id": "afd94b1b",
   "metadata": {},
   "source": [
    "4.2 - Visualisation de données sous forme de nuage de points"
   ]
  },
  {
   "cell_type": "code",
   "execution_count": null,
   "id": "3faa2869",
   "metadata": {},
   "outputs": [
    {
     "ename": "TypeError",
     "evalue": "'str' object is not callable",
     "output_type": "error",
     "traceback": [
      "\u001b[1;31m---------------------------------------------------------------------------\u001b[0m",
      "\u001b[1;31mTypeError\u001b[0m                                 Traceback (most recent call last)",
      "\u001b[1;32mC:\\Users\\UTILIS~1\\AppData\\Local\\Temp/ipykernel_3012/3359906416.py\u001b[0m in \u001b[0;36m<module>\u001b[1;34m\u001b[0m\n\u001b[0;32m      1\u001b[0m \u001b[0mplt\u001b[0m\u001b[1;33m.\u001b[0m\u001b[0mscatter\u001b[0m\u001b[1;33m(\u001b[0m\u001b[0mx\u001b[0m\u001b[1;33m,\u001b[0m\u001b[0my\u001b[0m\u001b[1;33m,\u001b[0m\u001b[0mc\u001b[0m\u001b[1;33m=\u001b[0m\u001b[1;34m\"purple\"\u001b[0m\u001b[1;33m)\u001b[0m\u001b[1;33m\u001b[0m\u001b[1;33m\u001b[0m\u001b[0m\n\u001b[0;32m      2\u001b[0m \u001b[0mplt\u001b[0m\u001b[1;33m.\u001b[0m\u001b[0mtitle\u001b[0m\u001b[1;33m(\u001b[0m\u001b[1;34m\"Montant Temps\"\u001b[0m\u001b[1;33m)\u001b[0m\u001b[1;33m\u001b[0m\u001b[1;33m\u001b[0m\u001b[0m\n\u001b[1;32m----> 3\u001b[1;33m \u001b[0mplt\u001b[0m\u001b[1;33m.\u001b[0m\u001b[0mxlabel\u001b[0m\u001b[1;33m(\u001b[0m\u001b[1;34m\"Temps\"\u001b[0m\u001b[1;33m)\u001b[0m\u001b[1;33m\u001b[0m\u001b[1;33m\u001b[0m\u001b[0m\n\u001b[0m\u001b[0;32m      4\u001b[0m \u001b[0mplt\u001b[0m\u001b[1;33m.\u001b[0m\u001b[0mshow\u001b[0m\u001b[1;33m(\u001b[0m\u001b[1;33m)\u001b[0m\u001b[1;33m\u001b[0m\u001b[1;33m\u001b[0m\u001b[0m\n",
      "\u001b[1;31mTypeError\u001b[0m: 'str' object is not callable"
     ]
    },
    {
     "data": {
      "image/png": "[encoded data removed]",
      "text/plain": [
       "<Figure size 432x288 with 1 Axes>"
      ]
     },
     "metadata": {
      "needs_background": "light"
     },
     "output_type": "display_data"
    }
   ],
   "source": [
    "plt.scatter(x,y,c=\"purple\")\n",
    "plt.title(\"Montant Temps\")\n",
    "plt.show()"
   ]
  },
  {
   "cell_type": "markdown",
   "id": "c6bc42f6",
   "metadata": {},
   "source": [
    "5 - Analyse de données"
   ]
  },
  {
   "cell_type": "markdown",
   "id": "b346becc",
   "metadata": {},
   "source": [
    "\n",
    "5.1 - Mesure de tendance centrale"
   ]
  },
  {
   "cell_type": "code",
   "execution_count": null,
   "id": "79f07289",
   "metadata": {},
   "outputs": [],
   "source": [
    "tc = pd.read_csv(\"./base_donnees/tendance_centrale.csv\")"
   ]
  },
  {
   "cell_type": "code",
   "execution_count": null,
   "id": "e1817627",
   "metadata": {},
   "outputs": [
    {
     "data": {
      "text/html": [
       "<div>\n",
       "<style scoped>\n",
       "    .dataframe tbody tr th:only-of-type {\n",
       "        vertical-align: middle;\n",
       "    }\n",
       "\n",
       "    .dataframe tbody tr th {\n",
       "        vertical-align: top;\n",
       "    }\n",
       "\n",
       "    .dataframe thead th {\n",
       "        text-align: right;\n",
       "    }\n",
       "</style>\n",
       "<table border=\"1\" class=\"dataframe\">\n",
       "  <thead>\n",
       "    <tr style=\"text-align: right;\">\n",
       "      <th></th>\n",
       "      <th>Nom</th>\n",
       "      <th>Age</th>\n",
       "      <th>Rating</th>\n",
       "    </tr>\n",
       "  </thead>\n",
       "  <tbody>\n",
       "    <tr>\n",
       "      <th>0</th>\n",
       "      <td>ANATOLE</td>\n",
       "      <td>55</td>\n",
       "      <td>4.53</td>\n",
       "    </tr>\n",
       "    <tr>\n",
       "      <th>1</th>\n",
       "      <td>Vincent</td>\n",
       "      <td>59</td>\n",
       "      <td>3.54</td>\n",
       "    </tr>\n",
       "    <tr>\n",
       "      <th>2</th>\n",
       "      <td>Brenda</td>\n",
       "      <td>55</td>\n",
       "      <td>3.98</td>\n",
       "    </tr>\n",
       "    <tr>\n",
       "      <th>3</th>\n",
       "      <td>Philippe</td>\n",
       "      <td>53</td>\n",
       "      <td>5.59</td>\n",
       "    </tr>\n",
       "    <tr>\n",
       "      <th>4</th>\n",
       "      <td>Michel</td>\n",
       "      <td>30</td>\n",
       "      <td>3.50</td>\n",
       "    </tr>\n",
       "  </tbody>\n",
       "</table>\n",
       "</div>"
      ],
      "text/plain": [
       "         Nom  Age  Rating\n",
       "0    ANATOLE   55    4.53\n",
       "1   Vincent    59    3.54\n",
       "2    Brenda    55    3.98\n",
       "3  Philippe    53    5.59\n",
       "4    Michel    30    3.50"
      ]
     },
     "execution_count": 27,
     "metadata": {},
     "output_type": "execute_result"
    }
   ],
   "source": [
    "tc.head()"
   ]
  },
  {
   "cell_type": "markdown",
   "id": "c60c4f7c",
   "metadata": {},
   "source": [
    "\n",
    "5.2 - Analyse de la variance"
   ]
  }
 ],
 "metadata": {
  "kernelspec": {
   "display_name": "Python 3 (ipykernel)",
   "language": "python",
   "name": "python3"
  },
  "language_info": {
   "codemirror_mode": {
    "name": "ipython",
    "version": 3
   },
   "file_extension": ".py",
   "mimetype": "text/x-python",
   "name": "python",
   "nbconvert_exporter": "python",
   "pygments_lexer": "ipython3",
   "version": "3.9.7"
  }
 },
 "nbformat": 4,
 "nbformat_minor": 5
}
