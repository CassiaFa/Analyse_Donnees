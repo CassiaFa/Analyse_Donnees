{
 "cells": [
  {
   "cell_type": "markdown",
   "id": "09b9459f",
   "metadata": {},
   "source": [
    "# Traitement, Visualisation et Analyse des données\n",
    "\n",
    "*Auteurs : Sylvia P. et Fabio G. C.* "
   ]
  },
  {
   "cell_type": "markdown",
   "id": "e397e0e7",
   "metadata": {},
   "source": [
    "## Import des bibliothèques"
   ]
  },
  {
   "cell_type": "code",
   "execution_count": 1,
   "id": "cfbe6f80",
   "metadata": {},
   "outputs": [],
   "source": [
    "import pandas as pd\n",
    "import numpy as np\n",
    "import scipy.stats as stats\n",
    "import matplotlib.pyplot as plt"
   ]
  },
  {
   "cell_type": "markdown",
   "id": "7d24dea9",
   "metadata": {},
   "source": [
    "## Importation des fichiers *crédit immo*"
   ]
  },
  {
   "cell_type": "markdown",
   "id": "41da0486",
   "metadata": {},
   "source": [
    "### Format CSV"
   ]
  },
  {
   "cell_type": "code",
   "execution_count": 2,
   "id": "e9059dda",
   "metadata": {},
   "outputs": [
    {
     "data": {
      "text/html": [
       "<div>\n",
       "<style scoped>\n",
       "    .dataframe tbody tr th:only-of-type {\n",
       "        vertical-align: middle;\n",
       "    }\n",
       "\n",
       "    .dataframe tbody tr th {\n",
       "        vertical-align: top;\n",
       "    }\n",
       "\n",
       "    .dataframe thead th {\n",
       "        text-align: right;\n",
       "    }\n",
       "</style>\n",
       "<table border=\"1\" class=\"dataframe\">\n",
       "  <thead>\n",
       "    <tr style=\"text-align: right;\">\n",
       "      <th></th>\n",
       "      <th>ID_NOM</th>\n",
       "      <th>Niv_Etude_Bac</th>\n",
       "      <th>age</th>\n",
       "      <th>contrat_de_travail</th>\n",
       "      <th>Salaire</th>\n",
       "      <th>dette_anterieure</th>\n",
       "      <th>etat_civile</th>\n",
       "      <th>apport</th>\n",
       "      <th>enfant_a_Charge</th>\n",
       "      <th>Solvable</th>\n",
       "    </tr>\n",
       "  </thead>\n",
       "  <tbody>\n",
       "    <tr>\n",
       "      <th>0</th>\n",
       "      <td>jean</td>\n",
       "      <td>3.0</td>\n",
       "      <td>45</td>\n",
       "      <td>CDI</td>\n",
       "      <td>40000</td>\n",
       "      <td>4000</td>\n",
       "      <td>M</td>\n",
       "      <td>0.3</td>\n",
       "      <td>3.0</td>\n",
       "      <td>OUI</td>\n",
       "    </tr>\n",
       "    <tr>\n",
       "      <th>1</th>\n",
       "      <td>VANESSA</td>\n",
       "      <td>5.0</td>\n",
       "      <td>28</td>\n",
       "      <td>CDI</td>\n",
       "      <td>30500</td>\n",
       "      <td>1320</td>\n",
       "      <td>M</td>\n",
       "      <td>0.1</td>\n",
       "      <td>0.0</td>\n",
       "      <td>OUI</td>\n",
       "    </tr>\n",
       "    <tr>\n",
       "      <th>2</th>\n",
       "      <td>TARCISSE</td>\n",
       "      <td>0.0</td>\n",
       "      <td>55</td>\n",
       "      <td>CDI</td>\n",
       "      <td>28000</td>\n",
       "      <td>40000</td>\n",
       "      <td>C</td>\n",
       "      <td>0.0</td>\n",
       "      <td>0.0</td>\n",
       "      <td>NON</td>\n",
       "    </tr>\n",
       "    <tr>\n",
       "      <th>3</th>\n",
       "      <td>TIBAULT</td>\n",
       "      <td>4.0</td>\n",
       "      <td>23</td>\n",
       "      <td>CDD</td>\n",
       "      <td>15000</td>\n",
       "      <td>0</td>\n",
       "      <td>M</td>\n",
       "      <td>0.1</td>\n",
       "      <td>NaN</td>\n",
       "      <td>OUI</td>\n",
       "    </tr>\n",
       "    <tr>\n",
       "      <th>4</th>\n",
       "      <td>GILES</td>\n",
       "      <td>0.0</td>\n",
       "      <td>33</td>\n",
       "      <td>CDD</td>\n",
       "      <td>27000</td>\n",
       "      <td>3000</td>\n",
       "      <td>C</td>\n",
       "      <td>0.1</td>\n",
       "      <td>2.0</td>\n",
       "      <td>NON</td>\n",
       "    </tr>\n",
       "  </tbody>\n",
       "</table>\n",
       "</div>"
      ],
      "text/plain": [
       "     ID_NOM  Niv_Etude_Bac  age contrat_de_travail  Salaire  dette_anterieure  \\\n",
       "0      jean            3.0   45                CDI    40000              4000   \n",
       "1   VANESSA            5.0   28                CDI    30500              1320   \n",
       "2  TARCISSE            0.0   55                CDI    28000             40000   \n",
       "3   TIBAULT            4.0   23                CDD    15000                 0   \n",
       "4     GILES            0.0   33                CDD    27000              3000   \n",
       "\n",
       "  etat_civile  apport  enfant_a_Charge Solvable  \n",
       "0           M     0.3              3.0      OUI  \n",
       "1           M     0.1              0.0      OUI  \n",
       "2           C     0.0              0.0      NON  \n",
       "3           M     0.1              NaN      OUI  \n",
       "4           C     0.1              2.0      NON  "
      ]
     },
     "execution_count": 2,
     "metadata": {},
     "output_type": "execute_result"
    }
   ],
   "source": [
    "cd_immo = pd.read_csv(\"./base_donnees/credit_immo/credit_immo.csv\")\n",
    "\n",
    "cd_immo.head() # afficher les 5 premières lignes"
   ]
  },
  {
   "cell_type": "markdown",
   "id": "d3201977",
   "metadata": {},
   "source": [
    "### Format XLS"
   ]
  },
  {
   "cell_type": "code",
   "execution_count": 3,
   "id": "73f155e6",
   "metadata": {},
   "outputs": [
    {
     "data": {
      "text/html": [
       "<div>\n",
       "<style scoped>\n",
       "    .dataframe tbody tr th:only-of-type {\n",
       "        vertical-align: middle;\n",
       "    }\n",
       "\n",
       "    .dataframe tbody tr th {\n",
       "        vertical-align: top;\n",
       "    }\n",
       "\n",
       "    .dataframe thead th {\n",
       "        text-align: right;\n",
       "    }\n",
       "</style>\n",
       "<table border=\"1\" class=\"dataframe\">\n",
       "  <thead>\n",
       "    <tr style=\"text-align: right;\">\n",
       "      <th></th>\n",
       "      <th>ID_NOM</th>\n",
       "      <th>Niv_Etude_Bac</th>\n",
       "      <th>age</th>\n",
       "      <th>contrat_de_travail</th>\n",
       "      <th>Salaire</th>\n",
       "      <th>dette_anterieure</th>\n",
       "      <th>etat_civile</th>\n",
       "      <th>apport</th>\n",
       "      <th>enfant_a_Charge</th>\n",
       "      <th>Solvable</th>\n",
       "    </tr>\n",
       "  </thead>\n",
       "  <tbody>\n",
       "    <tr>\n",
       "      <th>0</th>\n",
       "      <td>jean</td>\n",
       "      <td>3.0</td>\n",
       "      <td>45</td>\n",
       "      <td>CDI</td>\n",
       "      <td>40000</td>\n",
       "      <td>4000</td>\n",
       "      <td>M</td>\n",
       "      <td>0.3</td>\n",
       "      <td>3.0</td>\n",
       "      <td>OUI</td>\n",
       "    </tr>\n",
       "    <tr>\n",
       "      <th>1</th>\n",
       "      <td>VANESSA</td>\n",
       "      <td>5.0</td>\n",
       "      <td>28</td>\n",
       "      <td>CDI</td>\n",
       "      <td>30500</td>\n",
       "      <td>1320</td>\n",
       "      <td>M</td>\n",
       "      <td>0.1</td>\n",
       "      <td>0.0</td>\n",
       "      <td>OUI</td>\n",
       "    </tr>\n",
       "    <tr>\n",
       "      <th>2</th>\n",
       "      <td>TARCISSE</td>\n",
       "      <td>0.0</td>\n",
       "      <td>55</td>\n",
       "      <td>CDI</td>\n",
       "      <td>28000</td>\n",
       "      <td>40000</td>\n",
       "      <td>C</td>\n",
       "      <td>0.0</td>\n",
       "      <td>0.0</td>\n",
       "      <td>NON</td>\n",
       "    </tr>\n",
       "    <tr>\n",
       "      <th>3</th>\n",
       "      <td>TIBAULT</td>\n",
       "      <td>4.0</td>\n",
       "      <td>23</td>\n",
       "      <td>CDD</td>\n",
       "      <td>15000</td>\n",
       "      <td>0</td>\n",
       "      <td>M</td>\n",
       "      <td>0.1</td>\n",
       "      <td>NaN</td>\n",
       "      <td>OUI</td>\n",
       "    </tr>\n",
       "    <tr>\n",
       "      <th>4</th>\n",
       "      <td>GILES</td>\n",
       "      <td>0.0</td>\n",
       "      <td>33</td>\n",
       "      <td>CDD</td>\n",
       "      <td>27000</td>\n",
       "      <td>3000</td>\n",
       "      <td>C</td>\n",
       "      <td>0.1</td>\n",
       "      <td>2.0</td>\n",
       "      <td>NON</td>\n",
       "    </tr>\n",
       "  </tbody>\n",
       "</table>\n",
       "</div>"
      ],
      "text/plain": [
       "     ID_NOM  Niv_Etude_Bac  age contrat_de_travail  Salaire  dette_anterieure  \\\n",
       "0      jean            3.0   45                CDI    40000              4000   \n",
       "1   VANESSA            5.0   28                CDI    30500              1320   \n",
       "2  TARCISSE            0.0   55                CDI    28000             40000   \n",
       "3   TIBAULT            4.0   23                CDD    15000                 0   \n",
       "4     GILES            0.0   33                CDD    27000              3000   \n",
       "\n",
       "  etat_civile  apport  enfant_a_Charge Solvable  \n",
       "0           M     0.3              3.0      OUI  \n",
       "1           M     0.1              0.0      OUI  \n",
       "2           C     0.0              0.0      NON  \n",
       "3           M     0.1              NaN      OUI  \n",
       "4           C     0.1              2.0      NON  "
      ]
     },
     "execution_count": 3,
     "metadata": {},
     "output_type": "execute_result"
    }
   ],
   "source": [
    "cd_immo_excel = pd.read_excel(\"./base_donnees/credit_immo/credit_immo.xls\")\n",
    "\n",
    "cd_immo_excel.head() # afficher les 5 premières lignes"
   ]
  },
  {
   "cell_type": "markdown",
   "id": "3740f43d",
   "metadata": {},
   "source": [
    "###  Format JSON"
   ]
  },
  {
   "cell_type": "code",
   "execution_count": 4,
   "id": "e617875b",
   "metadata": {},
   "outputs": [
    {
     "data": {
      "text/html": [
       "<div>\n",
       "<style scoped>\n",
       "    .dataframe tbody tr th:only-of-type {\n",
       "        vertical-align: middle;\n",
       "    }\n",
       "\n",
       "    .dataframe tbody tr th {\n",
       "        vertical-align: top;\n",
       "    }\n",
       "\n",
       "    .dataframe thead th {\n",
       "        text-align: right;\n",
       "    }\n",
       "</style>\n",
       "<table border=\"1\" class=\"dataframe\">\n",
       "  <thead>\n",
       "    <tr style=\"text-align: right;\">\n",
       "      <th></th>\n",
       "      <th>Salaire</th>\n",
       "      <th>ID_NOM</th>\n",
       "      <th>dette_anterieure</th>\n",
       "      <th>apport</th>\n",
       "      <th>contrat_de_travail</th>\n",
       "      <th>enfant_a_Charge</th>\n",
       "      <th>etat_civile</th>\n",
       "      <th>Solvable</th>\n",
       "      <th>age</th>\n",
       "      <th>Niv_Etude_Bac</th>\n",
       "    </tr>\n",
       "  </thead>\n",
       "  <tbody>\n",
       "    <tr>\n",
       "      <th>0</th>\n",
       "      <td>40000</td>\n",
       "      <td>jean</td>\n",
       "      <td>4000</td>\n",
       "      <td>0.3</td>\n",
       "      <td>CDI</td>\n",
       "      <td>3</td>\n",
       "      <td>M</td>\n",
       "      <td>OUI</td>\n",
       "      <td>45</td>\n",
       "      <td>3</td>\n",
       "    </tr>\n",
       "    <tr>\n",
       "      <th>1</th>\n",
       "      <td>30500</td>\n",
       "      <td>VANESSA</td>\n",
       "      <td>1320</td>\n",
       "      <td>0.1</td>\n",
       "      <td>CDI</td>\n",
       "      <td>0</td>\n",
       "      <td>M</td>\n",
       "      <td>OUI</td>\n",
       "      <td>28</td>\n",
       "      <td>5</td>\n",
       "    </tr>\n",
       "    <tr>\n",
       "      <th>2</th>\n",
       "      <td>28000</td>\n",
       "      <td>TARCISSE</td>\n",
       "      <td>40000</td>\n",
       "      <td>0.0</td>\n",
       "      <td>CDI</td>\n",
       "      <td>0</td>\n",
       "      <td>C</td>\n",
       "      <td>NON</td>\n",
       "      <td>55</td>\n",
       "      <td>0</td>\n",
       "    </tr>\n",
       "    <tr>\n",
       "      <th>3</th>\n",
       "      <td>15000</td>\n",
       "      <td>TIBAULT</td>\n",
       "      <td>0</td>\n",
       "      <td>0.1</td>\n",
       "      <td>CDD</td>\n",
       "      <td></td>\n",
       "      <td>M</td>\n",
       "      <td>OUI</td>\n",
       "      <td>23</td>\n",
       "      <td>4</td>\n",
       "    </tr>\n",
       "    <tr>\n",
       "      <th>4</th>\n",
       "      <td>27000</td>\n",
       "      <td>GILES</td>\n",
       "      <td>3000</td>\n",
       "      <td>0.1</td>\n",
       "      <td>CDD</td>\n",
       "      <td>2</td>\n",
       "      <td>C</td>\n",
       "      <td>NON</td>\n",
       "      <td>33</td>\n",
       "      <td>0</td>\n",
       "    </tr>\n",
       "  </tbody>\n",
       "</table>\n",
       "</div>"
      ],
      "text/plain": [
       "   Salaire    ID_NOM  dette_anterieure  apport contrat_de_travail  \\\n",
       "0    40000      jean              4000     0.3                CDI   \n",
       "1    30500   VANESSA              1320     0.1                CDI   \n",
       "2    28000  TARCISSE             40000     0.0                CDI   \n",
       "3    15000   TIBAULT                 0     0.1                CDD   \n",
       "4    27000     GILES              3000     0.1                CDD   \n",
       "\n",
       "  enfant_a_Charge etat_civile Solvable  age Niv_Etude_Bac  \n",
       "0               3           M      OUI   45             3  \n",
       "1               0           M      OUI   28             5  \n",
       "2               0           C      NON   55             0  \n",
       "3                           M      OUI   23             4  \n",
       "4               2           C      NON   33             0  "
      ]
     },
     "execution_count": 4,
     "metadata": {},
     "output_type": "execute_result"
    }
   ],
   "source": [
    "cd_immo_json = pd.read_json(\"./base_donnees/credit_immo/credit_immo.json\")\n",
    "\n",
    "cd_immo_json.head() # afficher les 5 premières lignes"
   ]
  },
  {
   "cell_type": "markdown",
   "id": "82ad0361",
   "metadata": {},
   "source": [
    "## Création d'une base de données"
   ]
  },
  {
   "cell_type": "code",
   "execution_count": 5,
   "id": "1ab9174f",
   "metadata": {},
   "outputs": [
    {
     "name": "stdout",
     "output_type": "stream",
     "text": [
      "[[-0.16051205 -0.59555106  0.16702846  0.06604331]\n",
      " [-0.1765184  -0.54807589  1.57543331 -1.57703965]\n",
      " [-0.84703186 -0.70689004  0.4306666  -0.48817136]\n",
      " [ 0.29834994  0.04228205 -0.14531575 -2.18044023]\n",
      " [ 0.53587561 -0.53666797  1.40623925  0.83259398]\n",
      " [-0.15200767 -0.81542077 -0.20584249  0.0572692 ]]\n"
     ]
    }
   ],
   "source": [
    "data_bd = np.random.randn(6, 4) # données aléatoire suivant une loi normal sur 6 lignes et 4 colonnes\n",
    "\n",
    "print(data_bd) # affichage de data_bd"
   ]
  },
  {
   "cell_type": "code",
   "execution_count": 6,
   "id": "90a1f1ae",
   "metadata": {},
   "outputs": [],
   "source": [
    "label_col = [\"taux_de_ventes\", \"croissance_vente\", \"ratio_benefice\", \"ratio_perte\"] # nom des colonnes"
   ]
  },
  {
   "cell_type": "code",
   "execution_count": 7,
   "id": "729fa00a",
   "metadata": {},
   "outputs": [
    {
     "data": {
      "text/html": [
       "<div>\n",
       "<style scoped>\n",
       "    .dataframe tbody tr th:only-of-type {\n",
       "        vertical-align: middle;\n",
       "    }\n",
       "\n",
       "    .dataframe tbody tr th {\n",
       "        vertical-align: top;\n",
       "    }\n",
       "\n",
       "    .dataframe thead th {\n",
       "        text-align: right;\n",
       "    }\n",
       "</style>\n",
       "<table border=\"1\" class=\"dataframe\">\n",
       "  <thead>\n",
       "    <tr style=\"text-align: right;\">\n",
       "      <th></th>\n",
       "      <th>taux_de_ventes</th>\n",
       "      <th>croissance_vente</th>\n",
       "      <th>ratio_benefice</th>\n",
       "      <th>ratio_perte</th>\n",
       "    </tr>\n",
       "  </thead>\n",
       "  <tbody>\n",
       "    <tr>\n",
       "      <th>0</th>\n",
       "      <td>-0.160512</td>\n",
       "      <td>-0.595551</td>\n",
       "      <td>0.167028</td>\n",
       "      <td>0.066043</td>\n",
       "    </tr>\n",
       "    <tr>\n",
       "      <th>1</th>\n",
       "      <td>-0.176518</td>\n",
       "      <td>-0.548076</td>\n",
       "      <td>1.575433</td>\n",
       "      <td>-1.577040</td>\n",
       "    </tr>\n",
       "    <tr>\n",
       "      <th>2</th>\n",
       "      <td>-0.847032</td>\n",
       "      <td>-0.706890</td>\n",
       "      <td>0.430667</td>\n",
       "      <td>-0.488171</td>\n",
       "    </tr>\n",
       "    <tr>\n",
       "      <th>3</th>\n",
       "      <td>0.298350</td>\n",
       "      <td>0.042282</td>\n",
       "      <td>-0.145316</td>\n",
       "      <td>-2.180440</td>\n",
       "    </tr>\n",
       "    <tr>\n",
       "      <th>4</th>\n",
       "      <td>0.535876</td>\n",
       "      <td>-0.536668</td>\n",
       "      <td>1.406239</td>\n",
       "      <td>0.832594</td>\n",
       "    </tr>\n",
       "  </tbody>\n",
       "</table>\n",
       "</div>"
      ],
      "text/plain": [
       "   taux_de_ventes  croissance_vente  ratio_benefice  ratio_perte\n",
       "0       -0.160512         -0.595551        0.167028     0.066043\n",
       "1       -0.176518         -0.548076        1.575433    -1.577040\n",
       "2       -0.847032         -0.706890        0.430667    -0.488171\n",
       "3        0.298350          0.042282       -0.145316    -2.180440\n",
       "4        0.535876         -0.536668        1.406239     0.832594"
      ]
     },
     "execution_count": 7,
     "metadata": {},
     "output_type": "execute_result"
    }
   ],
   "source": [
    "bd = pd.DataFrame(data_bd, columns=label_col) # Création du dataframe\n",
    "\n",
    "bd.head() # afficher les 5 premières lignes"
   ]
  },
  {
   "cell_type": "markdown",
   "id": "39730920",
   "metadata": {},
   "source": [
    "### Ajout de deux index vide"
   ]
  },
  {
   "cell_type": "code",
   "execution_count": 8,
   "id": "c258111d",
   "metadata": {},
   "outputs": [],
   "source": [
    "bd = bd.reindex([7,0,1,2,3,4,5,6]) # Ajout d'un index 7 en début de dataframe et d'un index 6 en fin de dataframe"
   ]
  },
  {
   "cell_type": "markdown",
   "id": "a8df7d58",
   "metadata": {},
   "source": [
    "### Localisation des données null"
   ]
  },
  {
   "cell_type": "code",
   "execution_count": 9,
   "id": "c9e45a91",
   "metadata": {},
   "outputs": [
    {
     "data": {
      "text/html": [
       "<div>\n",
       "<style scoped>\n",
       "    .dataframe tbody tr th:only-of-type {\n",
       "        vertical-align: middle;\n",
       "    }\n",
       "\n",
       "    .dataframe tbody tr th {\n",
       "        vertical-align: top;\n",
       "    }\n",
       "\n",
       "    .dataframe thead th {\n",
       "        text-align: right;\n",
       "    }\n",
       "</style>\n",
       "<table border=\"1\" class=\"dataframe\">\n",
       "  <thead>\n",
       "    <tr style=\"text-align: right;\">\n",
       "      <th></th>\n",
       "      <th>taux_de_ventes</th>\n",
       "      <th>croissance_vente</th>\n",
       "      <th>ratio_benefice</th>\n",
       "      <th>ratio_perte</th>\n",
       "    </tr>\n",
       "  </thead>\n",
       "  <tbody>\n",
       "    <tr>\n",
       "      <th>7</th>\n",
       "      <td>True</td>\n",
       "      <td>True</td>\n",
       "      <td>True</td>\n",
       "      <td>True</td>\n",
       "    </tr>\n",
       "    <tr>\n",
       "      <th>0</th>\n",
       "      <td>False</td>\n",
       "      <td>False</td>\n",
       "      <td>False</td>\n",
       "      <td>False</td>\n",
       "    </tr>\n",
       "    <tr>\n",
       "      <th>1</th>\n",
       "      <td>False</td>\n",
       "      <td>False</td>\n",
       "      <td>False</td>\n",
       "      <td>False</td>\n",
       "    </tr>\n",
       "    <tr>\n",
       "      <th>2</th>\n",
       "      <td>False</td>\n",
       "      <td>False</td>\n",
       "      <td>False</td>\n",
       "      <td>False</td>\n",
       "    </tr>\n",
       "    <tr>\n",
       "      <th>3</th>\n",
       "      <td>False</td>\n",
       "      <td>False</td>\n",
       "      <td>False</td>\n",
       "      <td>False</td>\n",
       "    </tr>\n",
       "    <tr>\n",
       "      <th>4</th>\n",
       "      <td>False</td>\n",
       "      <td>False</td>\n",
       "      <td>False</td>\n",
       "      <td>False</td>\n",
       "    </tr>\n",
       "    <tr>\n",
       "      <th>5</th>\n",
       "      <td>False</td>\n",
       "      <td>False</td>\n",
       "      <td>False</td>\n",
       "      <td>False</td>\n",
       "    </tr>\n",
       "    <tr>\n",
       "      <th>6</th>\n",
       "      <td>True</td>\n",
       "      <td>True</td>\n",
       "      <td>True</td>\n",
       "      <td>True</td>\n",
       "    </tr>\n",
       "  </tbody>\n",
       "</table>\n",
       "</div>"
      ],
      "text/plain": [
       "   taux_de_ventes  croissance_vente  ratio_benefice  ratio_perte\n",
       "7            True              True            True         True\n",
       "0           False             False           False        False\n",
       "1           False             False           False        False\n",
       "2           False             False           False        False\n",
       "3           False             False           False        False\n",
       "4           False             False           False        False\n",
       "5           False             False           False        False\n",
       "6            True              True            True         True"
      ]
     },
     "execution_count": 9,
     "metadata": {},
     "output_type": "execute_result"
    }
   ],
   "source": [
    "bd.isnull()"
   ]
  },
  {
   "cell_type": "markdown",
   "id": "88ae07ca",
   "metadata": {},
   "source": [
    "### Remplacement des valeurs nulles par 0"
   ]
  },
  {
   "cell_type": "code",
   "execution_count": 10,
   "id": "ba2f363a",
   "metadata": {},
   "outputs": [
    {
     "data": {
      "text/html": [
       "<div>\n",
       "<style scoped>\n",
       "    .dataframe tbody tr th:only-of-type {\n",
       "        vertical-align: middle;\n",
       "    }\n",
       "\n",
       "    .dataframe tbody tr th {\n",
       "        vertical-align: top;\n",
       "    }\n",
       "\n",
       "    .dataframe thead th {\n",
       "        text-align: right;\n",
       "    }\n",
       "</style>\n",
       "<table border=\"1\" class=\"dataframe\">\n",
       "  <thead>\n",
       "    <tr style=\"text-align: right;\">\n",
       "      <th></th>\n",
       "      <th>taux_de_ventes</th>\n",
       "      <th>croissance_vente</th>\n",
       "      <th>ratio_benefice</th>\n",
       "      <th>ratio_perte</th>\n",
       "    </tr>\n",
       "  </thead>\n",
       "  <tbody>\n",
       "    <tr>\n",
       "      <th>7</th>\n",
       "      <td>0.000000</td>\n",
       "      <td>0.000000</td>\n",
       "      <td>0.000000</td>\n",
       "      <td>0.000000</td>\n",
       "    </tr>\n",
       "    <tr>\n",
       "      <th>0</th>\n",
       "      <td>-0.160512</td>\n",
       "      <td>-0.595551</td>\n",
       "      <td>0.167028</td>\n",
       "      <td>0.066043</td>\n",
       "    </tr>\n",
       "    <tr>\n",
       "      <th>1</th>\n",
       "      <td>-0.176518</td>\n",
       "      <td>-0.548076</td>\n",
       "      <td>1.575433</td>\n",
       "      <td>-1.577040</td>\n",
       "    </tr>\n",
       "    <tr>\n",
       "      <th>2</th>\n",
       "      <td>-0.847032</td>\n",
       "      <td>-0.706890</td>\n",
       "      <td>0.430667</td>\n",
       "      <td>-0.488171</td>\n",
       "    </tr>\n",
       "    <tr>\n",
       "      <th>3</th>\n",
       "      <td>0.298350</td>\n",
       "      <td>0.042282</td>\n",
       "      <td>-0.145316</td>\n",
       "      <td>-2.180440</td>\n",
       "    </tr>\n",
       "    <tr>\n",
       "      <th>4</th>\n",
       "      <td>0.535876</td>\n",
       "      <td>-0.536668</td>\n",
       "      <td>1.406239</td>\n",
       "      <td>0.832594</td>\n",
       "    </tr>\n",
       "    <tr>\n",
       "      <th>5</th>\n",
       "      <td>-0.152008</td>\n",
       "      <td>-0.815421</td>\n",
       "      <td>-0.205842</td>\n",
       "      <td>0.057269</td>\n",
       "    </tr>\n",
       "    <tr>\n",
       "      <th>6</th>\n",
       "      <td>0.000000</td>\n",
       "      <td>0.000000</td>\n",
       "      <td>0.000000</td>\n",
       "      <td>0.000000</td>\n",
       "    </tr>\n",
       "  </tbody>\n",
       "</table>\n",
       "</div>"
      ],
      "text/plain": [
       "   taux_de_ventes  croissance_vente  ratio_benefice  ratio_perte\n",
       "7        0.000000          0.000000        0.000000     0.000000\n",
       "0       -0.160512         -0.595551        0.167028     0.066043\n",
       "1       -0.176518         -0.548076        1.575433    -1.577040\n",
       "2       -0.847032         -0.706890        0.430667    -0.488171\n",
       "3        0.298350          0.042282       -0.145316    -2.180440\n",
       "4        0.535876         -0.536668        1.406239     0.832594\n",
       "5       -0.152008         -0.815421       -0.205842     0.057269\n",
       "6        0.000000          0.000000        0.000000     0.000000"
      ]
     },
     "execution_count": 10,
     "metadata": {},
     "output_type": "execute_result"
    }
   ],
   "source": [
    "bd.fillna(0)"
   ]
  },
  {
   "cell_type": "markdown",
   "id": "6f47223f",
   "metadata": {},
   "source": [
    "### Suppression des lignes nulles"
   ]
  },
  {
   "cell_type": "code",
   "execution_count": 11,
   "id": "942901d7",
   "metadata": {},
   "outputs": [],
   "source": [
    "bd = bd.dropna()"
   ]
  },
  {
   "cell_type": "code",
   "execution_count": 12,
   "id": "cb3228d8",
   "metadata": {},
   "outputs": [
    {
     "data": {
      "text/html": [
       "<div>\n",
       "<style scoped>\n",
       "    .dataframe tbody tr th:only-of-type {\n",
       "        vertical-align: middle;\n",
       "    }\n",
       "\n",
       "    .dataframe tbody tr th {\n",
       "        vertical-align: top;\n",
       "    }\n",
       "\n",
       "    .dataframe thead th {\n",
       "        text-align: right;\n",
       "    }\n",
       "</style>\n",
       "<table border=\"1\" class=\"dataframe\">\n",
       "  <thead>\n",
       "    <tr style=\"text-align: right;\">\n",
       "      <th></th>\n",
       "      <th>taux_de_ventes</th>\n",
       "      <th>croissance_vente</th>\n",
       "      <th>ratio_benefice</th>\n",
       "      <th>ratio_perte</th>\n",
       "    </tr>\n",
       "  </thead>\n",
       "  <tbody>\n",
       "    <tr>\n",
       "      <th>0</th>\n",
       "      <td>-0.160512</td>\n",
       "      <td>-0.595551</td>\n",
       "      <td>0.167028</td>\n",
       "      <td>0.066043</td>\n",
       "    </tr>\n",
       "    <tr>\n",
       "      <th>1</th>\n",
       "      <td>-0.176518</td>\n",
       "      <td>-0.548076</td>\n",
       "      <td>1.575433</td>\n",
       "      <td>-1.577040</td>\n",
       "    </tr>\n",
       "    <tr>\n",
       "      <th>2</th>\n",
       "      <td>-0.847032</td>\n",
       "      <td>-0.706890</td>\n",
       "      <td>0.430667</td>\n",
       "      <td>-0.488171</td>\n",
       "    </tr>\n",
       "    <tr>\n",
       "      <th>3</th>\n",
       "      <td>0.298350</td>\n",
       "      <td>0.042282</td>\n",
       "      <td>-0.145316</td>\n",
       "      <td>-2.180440</td>\n",
       "    </tr>\n",
       "    <tr>\n",
       "      <th>4</th>\n",
       "      <td>0.535876</td>\n",
       "      <td>-0.536668</td>\n",
       "      <td>1.406239</td>\n",
       "      <td>0.832594</td>\n",
       "    </tr>\n",
       "    <tr>\n",
       "      <th>5</th>\n",
       "      <td>-0.152008</td>\n",
       "      <td>-0.815421</td>\n",
       "      <td>-0.205842</td>\n",
       "      <td>0.057269</td>\n",
       "    </tr>\n",
       "  </tbody>\n",
       "</table>\n",
       "</div>"
      ],
      "text/plain": [
       "   taux_de_ventes  croissance_vente  ratio_benefice  ratio_perte\n",
       "0       -0.160512         -0.595551        0.167028     0.066043\n",
       "1       -0.176518         -0.548076        1.575433    -1.577040\n",
       "2       -0.847032         -0.706890        0.430667    -0.488171\n",
       "3        0.298350          0.042282       -0.145316    -2.180440\n",
       "4        0.535876         -0.536668        1.406239     0.832594\n",
       "5       -0.152008         -0.815421       -0.205842     0.057269"
      ]
     },
     "execution_count": 12,
     "metadata": {},
     "output_type": "execute_result"
    }
   ],
   "source": [
    "bd"
   ]
  },
  {
   "cell_type": "markdown",
   "id": "5ad7d888",
   "metadata": {},
   "source": [
    "## Traitement des données"
   ]
  },
  {
   "cell_type": "markdown",
   "id": "65c2b543",
   "metadata": {},
   "source": [
    "### Imporation des bibliothèques nécessaires"
   ]
  },
  {
   "cell_type": "code",
   "execution_count": 13,
   "id": "488811d8",
   "metadata": {},
   "outputs": [],
   "source": [
    "from sklearn.impute import SimpleImputer\n",
    "from sklearn.preprocessing import LabelEncoder, StandardScaler\n",
    "from sklearn.model_selection import train_test_split"
   ]
  },
  {
   "cell_type": "markdown",
   "id": "168bd8ca",
   "metadata": {},
   "source": [
    "### Importation du jeu de données"
   ]
  },
  {
   "cell_type": "code",
   "execution_count": 14,
   "id": "987e1d4c",
   "metadata": {},
   "outputs": [],
   "source": [
    "cd_immo = pd.read_csv(\"./base_donnees/credit_immo/credit_immo.csv\")"
   ]
  },
  {
   "cell_type": "code",
   "execution_count": 15,
   "id": "a69b16ac",
   "metadata": {},
   "outputs": [
    {
     "data": {
      "text/html": [
       "<div>\n",
       "<style scoped>\n",
       "    .dataframe tbody tr th:only-of-type {\n",
       "        vertical-align: middle;\n",
       "    }\n",
       "\n",
       "    .dataframe tbody tr th {\n",
       "        vertical-align: top;\n",
       "    }\n",
       "\n",
       "    .dataframe thead th {\n",
       "        text-align: right;\n",
       "    }\n",
       "</style>\n",
       "<table border=\"1\" class=\"dataframe\">\n",
       "  <thead>\n",
       "    <tr style=\"text-align: right;\">\n",
       "      <th></th>\n",
       "      <th>ID_NOM</th>\n",
       "      <th>Niv_Etude_Bac</th>\n",
       "      <th>age</th>\n",
       "      <th>contrat_de_travail</th>\n",
       "      <th>Salaire</th>\n",
       "      <th>dette_anterieure</th>\n",
       "      <th>etat_civile</th>\n",
       "      <th>apport</th>\n",
       "      <th>enfant_a_Charge</th>\n",
       "      <th>Solvable</th>\n",
       "    </tr>\n",
       "  </thead>\n",
       "  <tbody>\n",
       "    <tr>\n",
       "      <th>0</th>\n",
       "      <td>jean</td>\n",
       "      <td>3.0</td>\n",
       "      <td>45</td>\n",
       "      <td>CDI</td>\n",
       "      <td>40000</td>\n",
       "      <td>4000</td>\n",
       "      <td>M</td>\n",
       "      <td>0.3</td>\n",
       "      <td>3.0</td>\n",
       "      <td>OUI</td>\n",
       "    </tr>\n",
       "    <tr>\n",
       "      <th>1</th>\n",
       "      <td>VANESSA</td>\n",
       "      <td>5.0</td>\n",
       "      <td>28</td>\n",
       "      <td>CDI</td>\n",
       "      <td>30500</td>\n",
       "      <td>1320</td>\n",
       "      <td>M</td>\n",
       "      <td>0.1</td>\n",
       "      <td>0.0</td>\n",
       "      <td>OUI</td>\n",
       "    </tr>\n",
       "    <tr>\n",
       "      <th>2</th>\n",
       "      <td>TARCISSE</td>\n",
       "      <td>0.0</td>\n",
       "      <td>55</td>\n",
       "      <td>CDI</td>\n",
       "      <td>28000</td>\n",
       "      <td>40000</td>\n",
       "      <td>C</td>\n",
       "      <td>0.0</td>\n",
       "      <td>0.0</td>\n",
       "      <td>NON</td>\n",
       "    </tr>\n",
       "    <tr>\n",
       "      <th>3</th>\n",
       "      <td>TIBAULT</td>\n",
       "      <td>4.0</td>\n",
       "      <td>23</td>\n",
       "      <td>CDD</td>\n",
       "      <td>15000</td>\n",
       "      <td>0</td>\n",
       "      <td>M</td>\n",
       "      <td>0.1</td>\n",
       "      <td>NaN</td>\n",
       "      <td>OUI</td>\n",
       "    </tr>\n",
       "    <tr>\n",
       "      <th>4</th>\n",
       "      <td>GILES</td>\n",
       "      <td>0.0</td>\n",
       "      <td>33</td>\n",
       "      <td>CDD</td>\n",
       "      <td>27000</td>\n",
       "      <td>3000</td>\n",
       "      <td>C</td>\n",
       "      <td>0.1</td>\n",
       "      <td>2.0</td>\n",
       "      <td>NON</td>\n",
       "    </tr>\n",
       "  </tbody>\n",
       "</table>\n",
       "</div>"
      ],
      "text/plain": [
       "     ID_NOM  Niv_Etude_Bac  age contrat_de_travail  Salaire  dette_anterieure  \\\n",
       "0      jean            3.0   45                CDI    40000              4000   \n",
       "1   VANESSA            5.0   28                CDI    30500              1320   \n",
       "2  TARCISSE            0.0   55                CDI    28000             40000   \n",
       "3   TIBAULT            4.0   23                CDD    15000                 0   \n",
       "4     GILES            0.0   33                CDD    27000              3000   \n",
       "\n",
       "  etat_civile  apport  enfant_a_Charge Solvable  \n",
       "0           M     0.3              3.0      OUI  \n",
       "1           M     0.1              0.0      OUI  \n",
       "2           C     0.0              0.0      NON  \n",
       "3           M     0.1              NaN      OUI  \n",
       "4           C     0.1              2.0      NON  "
      ]
     },
     "execution_count": 15,
     "metadata": {},
     "output_type": "execute_result"
    }
   ],
   "source": [
    "cd_immo.head()"
   ]
  },
  {
   "cell_type": "markdown",
   "id": "5abad214",
   "metadata": {},
   "source": [
    "### Transformation des valeurs manquantes"
   ]
  },
  {
   "cell_type": "code",
   "execution_count": 16,
   "id": "084f6233",
   "metadata": {},
   "outputs": [],
   "source": [
    "imputer = SimpleImputer(missing_values=np.nan, strategy='mean')\n",
    "# imputer = imputer.fit(cd_immo.select_dtypes(include='number'))\n",
    "\n",
    "cd_immo[cd_immo.select_dtypes(include='number').columns] = imputer.fit_transform(cd_immo.select_dtypes(include='number'))"
   ]
  },
  {
   "cell_type": "code",
   "execution_count": 17,
   "id": "00308c6e",
   "metadata": {},
   "outputs": [
    {
     "data": {
      "text/html": [
       "<div>\n",
       "<style scoped>\n",
       "    .dataframe tbody tr th:only-of-type {\n",
       "        vertical-align: middle;\n",
       "    }\n",
       "\n",
       "    .dataframe tbody tr th {\n",
       "        vertical-align: top;\n",
       "    }\n",
       "\n",
       "    .dataframe thead th {\n",
       "        text-align: right;\n",
       "    }\n",
       "</style>\n",
       "<table border=\"1\" class=\"dataframe\">\n",
       "  <thead>\n",
       "    <tr style=\"text-align: right;\">\n",
       "      <th></th>\n",
       "      <th>ID_NOM</th>\n",
       "      <th>Niv_Etude_Bac</th>\n",
       "      <th>age</th>\n",
       "      <th>contrat_de_travail</th>\n",
       "      <th>Salaire</th>\n",
       "      <th>dette_anterieure</th>\n",
       "      <th>etat_civile</th>\n",
       "      <th>apport</th>\n",
       "      <th>enfant_a_Charge</th>\n",
       "      <th>Solvable</th>\n",
       "    </tr>\n",
       "  </thead>\n",
       "  <tbody>\n",
       "    <tr>\n",
       "      <th>0</th>\n",
       "      <td>jean</td>\n",
       "      <td>3.0</td>\n",
       "      <td>45.0</td>\n",
       "      <td>CDI</td>\n",
       "      <td>40000.0</td>\n",
       "      <td>4000.0</td>\n",
       "      <td>M</td>\n",
       "      <td>0.3</td>\n",
       "      <td>3.000000</td>\n",
       "      <td>OUI</td>\n",
       "    </tr>\n",
       "    <tr>\n",
       "      <th>1</th>\n",
       "      <td>VANESSA</td>\n",
       "      <td>5.0</td>\n",
       "      <td>28.0</td>\n",
       "      <td>CDI</td>\n",
       "      <td>30500.0</td>\n",
       "      <td>1320.0</td>\n",
       "      <td>M</td>\n",
       "      <td>0.1</td>\n",
       "      <td>0.000000</td>\n",
       "      <td>OUI</td>\n",
       "    </tr>\n",
       "    <tr>\n",
       "      <th>2</th>\n",
       "      <td>TARCISSE</td>\n",
       "      <td>0.0</td>\n",
       "      <td>55.0</td>\n",
       "      <td>CDI</td>\n",
       "      <td>28000.0</td>\n",
       "      <td>40000.0</td>\n",
       "      <td>C</td>\n",
       "      <td>0.0</td>\n",
       "      <td>0.000000</td>\n",
       "      <td>NON</td>\n",
       "    </tr>\n",
       "    <tr>\n",
       "      <th>3</th>\n",
       "      <td>TIBAULT</td>\n",
       "      <td>4.0</td>\n",
       "      <td>23.0</td>\n",
       "      <td>CDD</td>\n",
       "      <td>15000.0</td>\n",
       "      <td>0.0</td>\n",
       "      <td>M</td>\n",
       "      <td>0.1</td>\n",
       "      <td>1.333333</td>\n",
       "      <td>OUI</td>\n",
       "    </tr>\n",
       "    <tr>\n",
       "      <th>4</th>\n",
       "      <td>GILES</td>\n",
       "      <td>0.0</td>\n",
       "      <td>33.0</td>\n",
       "      <td>CDD</td>\n",
       "      <td>27000.0</td>\n",
       "      <td>3000.0</td>\n",
       "      <td>C</td>\n",
       "      <td>0.1</td>\n",
       "      <td>2.000000</td>\n",
       "      <td>NON</td>\n",
       "    </tr>\n",
       "  </tbody>\n",
       "</table>\n",
       "</div>"
      ],
      "text/plain": [
       "     ID_NOM  Niv_Etude_Bac   age contrat_de_travail  Salaire  \\\n",
       "0      jean            3.0  45.0                CDI  40000.0   \n",
       "1   VANESSA            5.0  28.0                CDI  30500.0   \n",
       "2  TARCISSE            0.0  55.0                CDI  28000.0   \n",
       "3   TIBAULT            4.0  23.0                CDD  15000.0   \n",
       "4     GILES            0.0  33.0                CDD  27000.0   \n",
       "\n",
       "   dette_anterieure etat_civile  apport  enfant_a_Charge Solvable  \n",
       "0            4000.0           M     0.3         3.000000      OUI  \n",
       "1            1320.0           M     0.1         0.000000      OUI  \n",
       "2           40000.0           C     0.0         0.000000      NON  \n",
       "3               0.0           M     0.1         1.333333      OUI  \n",
       "4            3000.0           C     0.1         2.000000      NON  "
      ]
     },
     "execution_count": 17,
     "metadata": {},
     "output_type": "execute_result"
    }
   ],
   "source": [
    "cd_immo.head()"
   ]
  },
  {
   "cell_type": "markdown",
   "id": "0448baa5",
   "metadata": {},
   "source": [
    "### Encoder les valeurs catégoriques"
   ]
  },
  {
   "cell_type": "code",
   "execution_count": 18,
   "id": "d3ba1b02",
   "metadata": {},
   "outputs": [
    {
     "data": {
      "text/html": [
       "<div>\n",
       "<style scoped>\n",
       "    .dataframe tbody tr th:only-of-type {\n",
       "        vertical-align: middle;\n",
       "    }\n",
       "\n",
       "    .dataframe tbody tr th {\n",
       "        vertical-align: top;\n",
       "    }\n",
       "\n",
       "    .dataframe thead th {\n",
       "        text-align: right;\n",
       "    }\n",
       "</style>\n",
       "<table border=\"1\" class=\"dataframe\">\n",
       "  <thead>\n",
       "    <tr style=\"text-align: right;\">\n",
       "      <th></th>\n",
       "      <th>ID_NOM</th>\n",
       "      <th>contrat_de_travail</th>\n",
       "      <th>etat_civile</th>\n",
       "      <th>Solvable</th>\n",
       "    </tr>\n",
       "  </thead>\n",
       "  <tbody>\n",
       "    <tr>\n",
       "      <th>0</th>\n",
       "      <td>jean</td>\n",
       "      <td>CDI</td>\n",
       "      <td>M</td>\n",
       "      <td>OUI</td>\n",
       "    </tr>\n",
       "    <tr>\n",
       "      <th>1</th>\n",
       "      <td>VANESSA</td>\n",
       "      <td>CDI</td>\n",
       "      <td>M</td>\n",
       "      <td>OUI</td>\n",
       "    </tr>\n",
       "    <tr>\n",
       "      <th>2</th>\n",
       "      <td>TARCISSE</td>\n",
       "      <td>CDI</td>\n",
       "      <td>C</td>\n",
       "      <td>NON</td>\n",
       "    </tr>\n",
       "    <tr>\n",
       "      <th>3</th>\n",
       "      <td>TIBAULT</td>\n",
       "      <td>CDD</td>\n",
       "      <td>M</td>\n",
       "      <td>OUI</td>\n",
       "    </tr>\n",
       "    <tr>\n",
       "      <th>4</th>\n",
       "      <td>GILES</td>\n",
       "      <td>CDD</td>\n",
       "      <td>C</td>\n",
       "      <td>NON</td>\n",
       "    </tr>\n",
       "    <tr>\n",
       "      <th>5</th>\n",
       "      <td>ETHAN</td>\n",
       "      <td>INTERIM</td>\n",
       "      <td>M</td>\n",
       "      <td>NON</td>\n",
       "    </tr>\n",
       "    <tr>\n",
       "      <th>6</th>\n",
       "      <td>LILIANE</td>\n",
       "      <td>CDI</td>\n",
       "      <td>C</td>\n",
       "      <td>NON</td>\n",
       "    </tr>\n",
       "    <tr>\n",
       "      <th>7</th>\n",
       "      <td>GLODI</td>\n",
       "      <td>INTERIM</td>\n",
       "      <td>C</td>\n",
       "      <td>NON</td>\n",
       "    </tr>\n",
       "    <tr>\n",
       "      <th>8</th>\n",
       "      <td>FLORIANE</td>\n",
       "      <td>CDI</td>\n",
       "      <td>M</td>\n",
       "      <td>OUI</td>\n",
       "    </tr>\n",
       "    <tr>\n",
       "      <th>9</th>\n",
       "      <td>MARIE</td>\n",
       "      <td>CDI</td>\n",
       "      <td>M</td>\n",
       "      <td>OUI</td>\n",
       "    </tr>\n",
       "    <tr>\n",
       "      <th>10</th>\n",
       "      <td>BAKAMBU</td>\n",
       "      <td>CDI</td>\n",
       "      <td>M</td>\n",
       "      <td>OUI</td>\n",
       "    </tr>\n",
       "    <tr>\n",
       "      <th>11</th>\n",
       "      <td>FATOU</td>\n",
       "      <td>CDD</td>\n",
       "      <td>C</td>\n",
       "      <td>NON</td>\n",
       "    </tr>\n",
       "    <tr>\n",
       "      <th>12</th>\n",
       "      <td>WUAN</td>\n",
       "      <td>INTERIM</td>\n",
       "      <td>M</td>\n",
       "      <td>NON</td>\n",
       "    </tr>\n",
       "    <tr>\n",
       "      <th>13</th>\n",
       "      <td>HUGO</td>\n",
       "      <td>CDI</td>\n",
       "      <td>M</td>\n",
       "      <td>NON</td>\n",
       "    </tr>\n",
       "    <tr>\n",
       "      <th>14</th>\n",
       "      <td>JOSEPH</td>\n",
       "      <td>CDD</td>\n",
       "      <td>C</td>\n",
       "      <td>NON</td>\n",
       "    </tr>\n",
       "    <tr>\n",
       "      <th>15</th>\n",
       "      <td>DIANE</td>\n",
       "      <td>ENTRPRENEUR</td>\n",
       "      <td>M</td>\n",
       "      <td>NON</td>\n",
       "    </tr>\n",
       "    <tr>\n",
       "      <th>16</th>\n",
       "      <td>FENG</td>\n",
       "      <td>CDI</td>\n",
       "      <td>M</td>\n",
       "      <td>OUI</td>\n",
       "    </tr>\n",
       "    <tr>\n",
       "      <th>17</th>\n",
       "      <td>FRICHET</td>\n",
       "      <td>CDI</td>\n",
       "      <td>M</td>\n",
       "      <td>OUI</td>\n",
       "    </tr>\n",
       "    <tr>\n",
       "      <th>18</th>\n",
       "      <td>HOLLANDE</td>\n",
       "      <td>CDI</td>\n",
       "      <td>M</td>\n",
       "      <td>OUI</td>\n",
       "    </tr>\n",
       "  </tbody>\n",
       "</table>\n",
       "</div>"
      ],
      "text/plain": [
       "      ID_NOM contrat_de_travail etat_civile Solvable\n",
       "0       jean                CDI           M      OUI\n",
       "1    VANESSA                CDI           M      OUI\n",
       "2   TARCISSE                CDI           C      NON\n",
       "3    TIBAULT                CDD           M      OUI\n",
       "4      GILES                CDD           C      NON\n",
       "5      ETHAN            INTERIM           M      NON\n",
       "6    LILIANE                CDI           C      NON\n",
       "7      GLODI            INTERIM           C      NON\n",
       "8   FLORIANE                CDI           M      OUI\n",
       "9      MARIE                CDI           M      OUI\n",
       "10   BAKAMBU                CDI           M      OUI\n",
       "11     FATOU                CDD           C      NON\n",
       "12      WUAN            INTERIM           M      NON\n",
       "13      HUGO                CDI           M      NON\n",
       "14    JOSEPH                CDD           C      NON\n",
       "15     DIANE        ENTRPRENEUR           M      NON\n",
       "16      FENG                CDI           M      OUI\n",
       "17   FRICHET                CDI           M      OUI\n",
       "18  HOLLANDE                CDI           M      OUI"
      ]
     },
     "execution_count": 18,
     "metadata": {},
     "output_type": "execute_result"
    }
   ],
   "source": [
    "cd_immo.select_dtypes(include='object') # sélectionner les colonnes objet "
   ]
  },
  {
   "cell_type": "code",
   "execution_count": 19,
   "id": "8db3c6c9",
   "metadata": {},
   "outputs": [
    {
     "name": "stdout",
     "output_type": "stream",
     "text": [
      "Index(['ID_NOM', 'contrat_de_travail', 'etat_civile', 'Solvable'], dtype='object')\n"
     ]
    }
   ],
   "source": [
    "label_categ = cd_immo.select_dtypes(include='object').columns # récupération des noms des colonnes objet\n",
    "print(label_categ)"
   ]
  },
  {
   "cell_type": "code",
   "execution_count": 20,
   "id": "c8dda989",
   "metadata": {},
   "outputs": [],
   "source": [
    "labelE = LabelEncoder() # attribution fonction LabelEncoder() à la variable labelE"
   ]
  },
  {
   "cell_type": "code",
   "execution_count": 21,
   "id": "212aa4ba",
   "metadata": {},
   "outputs": [],
   "source": [
    "for i in label_categ[1:]: # Boucle pour traiter les différentes colonne, car la fonction prend uniquement les arrya 1D\n",
    "    cd_immo[i] = labelE.fit_transform(cd_immo[i])"
   ]
  },
  {
   "cell_type": "code",
   "execution_count": 22,
   "id": "34dfa466",
   "metadata": {},
   "outputs": [
    {
     "data": {
      "text/html": [
       "<div>\n",
       "<style scoped>\n",
       "    .dataframe tbody tr th:only-of-type {\n",
       "        vertical-align: middle;\n",
       "    }\n",
       "\n",
       "    .dataframe tbody tr th {\n",
       "        vertical-align: top;\n",
       "    }\n",
       "\n",
       "    .dataframe thead th {\n",
       "        text-align: right;\n",
       "    }\n",
       "</style>\n",
       "<table border=\"1\" class=\"dataframe\">\n",
       "  <thead>\n",
       "    <tr style=\"text-align: right;\">\n",
       "      <th></th>\n",
       "      <th>ID_NOM</th>\n",
       "      <th>Niv_Etude_Bac</th>\n",
       "      <th>age</th>\n",
       "      <th>contrat_de_travail</th>\n",
       "      <th>Salaire</th>\n",
       "      <th>dette_anterieure</th>\n",
       "      <th>etat_civile</th>\n",
       "      <th>apport</th>\n",
       "      <th>enfant_a_Charge</th>\n",
       "      <th>Solvable</th>\n",
       "    </tr>\n",
       "  </thead>\n",
       "  <tbody>\n",
       "    <tr>\n",
       "      <th>0</th>\n",
       "      <td>jean</td>\n",
       "      <td>3.0</td>\n",
       "      <td>45.0</td>\n",
       "      <td>1</td>\n",
       "      <td>40000.0</td>\n",
       "      <td>4000.0</td>\n",
       "      <td>1</td>\n",
       "      <td>0.3</td>\n",
       "      <td>3.000000</td>\n",
       "      <td>1</td>\n",
       "    </tr>\n",
       "    <tr>\n",
       "      <th>1</th>\n",
       "      <td>VANESSA</td>\n",
       "      <td>5.0</td>\n",
       "      <td>28.0</td>\n",
       "      <td>1</td>\n",
       "      <td>30500.0</td>\n",
       "      <td>1320.0</td>\n",
       "      <td>1</td>\n",
       "      <td>0.1</td>\n",
       "      <td>0.000000</td>\n",
       "      <td>1</td>\n",
       "    </tr>\n",
       "    <tr>\n",
       "      <th>2</th>\n",
       "      <td>TARCISSE</td>\n",
       "      <td>0.0</td>\n",
       "      <td>55.0</td>\n",
       "      <td>1</td>\n",
       "      <td>28000.0</td>\n",
       "      <td>40000.0</td>\n",
       "      <td>0</td>\n",
       "      <td>0.0</td>\n",
       "      <td>0.000000</td>\n",
       "      <td>0</td>\n",
       "    </tr>\n",
       "    <tr>\n",
       "      <th>3</th>\n",
       "      <td>TIBAULT</td>\n",
       "      <td>4.0</td>\n",
       "      <td>23.0</td>\n",
       "      <td>0</td>\n",
       "      <td>15000.0</td>\n",
       "      <td>0.0</td>\n",
       "      <td>1</td>\n",
       "      <td>0.1</td>\n",
       "      <td>1.333333</td>\n",
       "      <td>1</td>\n",
       "    </tr>\n",
       "    <tr>\n",
       "      <th>4</th>\n",
       "      <td>GILES</td>\n",
       "      <td>0.0</td>\n",
       "      <td>33.0</td>\n",
       "      <td>0</td>\n",
       "      <td>27000.0</td>\n",
       "      <td>3000.0</td>\n",
       "      <td>0</td>\n",
       "      <td>0.1</td>\n",
       "      <td>2.000000</td>\n",
       "      <td>0</td>\n",
       "    </tr>\n",
       "  </tbody>\n",
       "</table>\n",
       "</div>"
      ],
      "text/plain": [
       "     ID_NOM  Niv_Etude_Bac   age  contrat_de_travail  Salaire  \\\n",
       "0      jean            3.0  45.0                   1  40000.0   \n",
       "1   VANESSA            5.0  28.0                   1  30500.0   \n",
       "2  TARCISSE            0.0  55.0                   1  28000.0   \n",
       "3   TIBAULT            4.0  23.0                   0  15000.0   \n",
       "4     GILES            0.0  33.0                   0  27000.0   \n",
       "\n",
       "   dette_anterieure  etat_civile  apport  enfant_a_Charge  Solvable  \n",
       "0            4000.0            1     0.3         3.000000         1  \n",
       "1            1320.0            1     0.1         0.000000         1  \n",
       "2           40000.0            0     0.0         0.000000         0  \n",
       "3               0.0            1     0.1         1.333333         1  \n",
       "4            3000.0            0     0.1         2.000000         0  "
      ]
     },
     "execution_count": 22,
     "metadata": {},
     "output_type": "execute_result"
    }
   ],
   "source": [
    "cd_immo.head() # afficher les 5 premières lignes"
   ]
  },
  {
   "cell_type": "markdown",
   "id": "5418de74",
   "metadata": {},
   "source": [
    "### Mise à l’échelle des features"
   ]
  },
  {
   "cell_type": "code",
   "execution_count": 23,
   "id": "f76938ff",
   "metadata": {},
   "outputs": [],
   "source": [
    "x = StandardScaler().fit_transform(cd_immo.iloc[:,1:-1])"
   ]
  },
  {
   "cell_type": "markdown",
   "id": "60ba8448",
   "metadata": {},
   "source": [
    "### Fractionner le jeu de données pour l’entrainement et le test"
   ]
  },
  {
   "cell_type": "code",
   "execution_count": 24,
   "id": "905d0811",
   "metadata": {},
   "outputs": [],
   "source": [
    "X_train, X_test, y_train, y_test = train_test_split(x, cd_immo[\"Solvable\"], test_size=0.2)"
   ]
  },
  {
   "cell_type": "code",
   "execution_count": 25,
   "id": "63efa605",
   "metadata": {},
   "outputs": [
    {
     "name": "stdout",
     "output_type": "stream",
     "text": [
      "Taille de X_train : 15\n",
      "Taille de X_test : 4\n"
     ]
    }
   ],
   "source": [
    "print(\"Taille de X_train :\", len(X_train))\n",
    "print(\"Taille de X_test :\", len(X_test))"
   ]
  },
  {
   "cell_type": "markdown",
   "id": "f56a9328",
   "metadata": {},
   "source": [
    "## Visualisation de données"
   ]
  },
  {
   "cell_type": "markdown",
   "id": "9ef28b8b",
   "metadata": {},
   "source": [
    "#### Chargement des données"
   ]
  },
  {
   "cell_type": "code",
   "execution_count": 26,
   "id": "7627fcac",
   "metadata": {},
   "outputs": [
    {
     "data": {
      "text/html": [
       "<div>\n",
       "<style scoped>\n",
       "    .dataframe tbody tr th:only-of-type {\n",
       "        vertical-align: middle;\n",
       "    }\n",
       "\n",
       "    .dataframe tbody tr th {\n",
       "        vertical-align: top;\n",
       "    }\n",
       "\n",
       "    .dataframe thead th {\n",
       "        text-align: right;\n",
       "    }\n",
       "</style>\n",
       "<table border=\"1\" class=\"dataframe\">\n",
       "  <thead>\n",
       "    <tr style=\"text-align: right;\">\n",
       "      <th></th>\n",
       "      <th>Montant_du_capitale</th>\n",
       "      <th>Temps</th>\n",
       "    </tr>\n",
       "  </thead>\n",
       "  <tbody>\n",
       "    <tr>\n",
       "      <th>0</th>\n",
       "      <td>1</td>\n",
       "      <td>5</td>\n",
       "    </tr>\n",
       "    <tr>\n",
       "      <th>1</th>\n",
       "      <td>12</td>\n",
       "      <td>6</td>\n",
       "    </tr>\n",
       "    <tr>\n",
       "      <th>2</th>\n",
       "      <td>13</td>\n",
       "      <td>7</td>\n",
       "    </tr>\n",
       "    <tr>\n",
       "      <th>3</th>\n",
       "      <td>2</td>\n",
       "      <td>8</td>\n",
       "    </tr>\n",
       "    <tr>\n",
       "      <th>4</th>\n",
       "      <td>3</td>\n",
       "      <td>9</td>\n",
       "    </tr>\n",
       "  </tbody>\n",
       "</table>\n",
       "</div>"
      ],
      "text/plain": [
       "   Montant_du_capitale  Temps\n",
       "0                    1      5\n",
       "1                   12      6\n",
       "2                   13      7\n",
       "3                    2      8\n",
       "4                    3      9"
      ]
     },
     "execution_count": 26,
     "metadata": {},
     "output_type": "execute_result"
    }
   ],
   "source": [
    "data_montant = pd.read_csv(\"./base_donnees/Montant_Temps.csv\")\n",
    "data_montant.head()"
   ]
  },
  {
   "cell_type": "markdown",
   "id": "b8146285",
   "metadata": {},
   "source": [
    "#### Séparation des données en abscisses et ordonnées"
   ]
  },
  {
   "cell_type": "code",
   "execution_count": 27,
   "id": "8b956b7e",
   "metadata": {},
   "outputs": [],
   "source": [
    "x = data_montant.iloc[:,1] # Valeurs d'abscisses\n",
    "y = data_montant.iloc[:,0] # Valeurs d'ordonnées"
   ]
  },
  {
   "cell_type": "markdown",
   "id": "fbc4a13a",
   "metadata": {},
   "source": [
    "#### Tracer les données"
   ]
  },
  {
   "cell_type": "code",
   "execution_count": 28,
   "id": "abe59a64",
   "metadata": {},
   "outputs": [
    {
     "data": {
      "image/png": "[encoded data removed]",
      "text/plain": [
       "<Figure size 432x288 with 1 Axes>"
      ]
     },
     "metadata": {
      "needs_background": "light"
     },
     "output_type": "display_data"
    }
   ],
   "source": [
    "ax = plt.plot(x,y, linewidth=2) # réalisation du plot (graphique) de y en fonction de x\n",
    "plt.show() # affichage du plot"
   ]
  },
  {
   "cell_type": "code",
   "execution_count": 30,
   "id": "713a19f2",
   "metadata": {},
   "outputs": [
    {
     "data": {
      "text/plain": [
       "<Figure size 432x288 with 0 Axes>"
      ]
     },
     "metadata": {},
     "output_type": "display_data"
    }
   ],
   "source": [
    "plt.savefig(\"./Figures/ligne.png\") # Sauvegarde du graphique"
   ]
  },
  {
   "cell_type": "markdown",
   "id": "2f0feeb2",
   "metadata": {},
   "source": [
    "###  Rajoutez du style à vos graphiques"
   ]
  },
  {
   "cell_type": "code",
   "execution_count": 31,
   "id": "52c418d9",
   "metadata": {},
   "outputs": [
    {
     "data": {
      "image/png": "[encoded data removed]",
      "text/plain": [
       "<Figure size 432x288 with 1 Axes>"
      ]
     },
     "metadata": {
      "needs_background": "light"
     },
     "output_type": "display_data"
    }
   ],
   "source": [
    "plt.plot(x,y, linewidth=2, color=\"red\", linestyle = \"dashed\", marker=\"^\", markersize=10, markerfacecolor=\"blue\")\n",
    "plt.title(\"Montant du capital en fonction du temps\", fontsize=15) # Ajout d'un titre\n",
    "plt.xlabel(\"Temps\") # Ajout du nom de l'axe des x\n",
    "plt.ylabel(\"Montant du capital\") # Ajout du nom de l'axe des y\n",
    "plt.grid(visible=True) # Activation de la grille\n",
    "plt.show() # Affichage de la représentation"
   ]
  },
  {
   "cell_type": "code",
   "execution_count": 32,
   "id": "4113bd03",
   "metadata": {},
   "outputs": [
    {
     "data": {
      "text/plain": [
       "<Figure size 432x288 with 0 Axes>"
      ]
     },
     "metadata": {},
     "output_type": "display_data"
    }
   ],
   "source": [
    "plt.savefig(\"./Figures/ligne_personnalise.png\") # Sauvegarde du graphique"
   ]
  },
  {
   "cell_type": "markdown",
   "id": "f3b93de6",
   "metadata": {},
   "source": [
    "### Visualisation de données sous forme de nuage de points"
   ]
  },
  {
   "cell_type": "code",
   "execution_count": 33,
   "id": "d03b65b0",
   "metadata": {},
   "outputs": [
    {
     "data": {
      "image/png": "[encoded data removed]",
      "text/plain": [
       "<Figure size 432x288 with 1 Axes>"
      ]
     },
     "metadata": {
      "needs_background": "light"
     },
     "output_type": "display_data"
    }
   ],
   "source": [
    "plt.scatter(x, y) # Création d'un nuage depoint, de y en fonction de x\n",
    "plt.title(\"Montant du capital en fonction du temps\", fontsize=15) # Ajout d'un titre\n",
    "plt.xlabel(\"Temps\") # Ajout de nom de l'axe X\n",
    "plt.ylabel(\"Montant du capital\")# Ajout de l'axe Y\n",
    "plt.grid(visible=True) # Activation de la grille\n",
    "plt.show() # Affichage du plot"
   ]
  },
  {
   "cell_type": "code",
   "execution_count": 34,
   "id": "cb6da499",
   "metadata": {},
   "outputs": [
    {
     "data": {
      "text/plain": [
       "<Figure size 432x288 with 0 Axes>"
      ]
     },
     "metadata": {},
     "output_type": "display_data"
    }
   ],
   "source": [
    "plt.savefig(\"./Figures/nuage_point.png\") # Sauvegarde du graphique"
   ]
  },
  {
   "cell_type": "markdown",
   "id": "3e732946",
   "metadata": {},
   "source": [
    "## Analyse de données"
   ]
  },
  {
   "cell_type": "markdown",
   "id": "3bb17d9d",
   "metadata": {},
   "source": [
    "### Mesure de tendance centrale"
   ]
  },
  {
   "cell_type": "markdown",
   "id": "651d3207",
   "metadata": {},
   "source": [
    "#### Chargement des données"
   ]
  },
  {
   "cell_type": "code",
   "execution_count": 35,
   "id": "51ba6240",
   "metadata": {},
   "outputs": [],
   "source": [
    "data_tc = pd.read_csv(\"./base_donnees/tendance_centrale.csv\") # Chargement des données tendance_centrale.csv"
   ]
  },
  {
   "cell_type": "code",
   "execution_count": 36,
   "id": "e9b15229",
   "metadata": {},
   "outputs": [
    {
     "data": {
      "text/html": [
       "<div>\n",
       "<style scoped>\n",
       "    .dataframe tbody tr th:only-of-type {\n",
       "        vertical-align: middle;\n",
       "    }\n",
       "\n",
       "    .dataframe tbody tr th {\n",
       "        vertical-align: top;\n",
       "    }\n",
       "\n",
       "    .dataframe thead th {\n",
       "        text-align: right;\n",
       "    }\n",
       "</style>\n",
       "<table border=\"1\" class=\"dataframe\">\n",
       "  <thead>\n",
       "    <tr style=\"text-align: right;\">\n",
       "      <th></th>\n",
       "      <th>Nom</th>\n",
       "      <th>Age</th>\n",
       "      <th>Rating</th>\n",
       "    </tr>\n",
       "  </thead>\n",
       "  <tbody>\n",
       "    <tr>\n",
       "      <th>0</th>\n",
       "      <td>ANATOLE</td>\n",
       "      <td>55</td>\n",
       "      <td>4.53</td>\n",
       "    </tr>\n",
       "    <tr>\n",
       "      <th>1</th>\n",
       "      <td>Vincent</td>\n",
       "      <td>59</td>\n",
       "      <td>3.54</td>\n",
       "    </tr>\n",
       "    <tr>\n",
       "      <th>2</th>\n",
       "      <td>Brenda</td>\n",
       "      <td>55</td>\n",
       "      <td>3.98</td>\n",
       "    </tr>\n",
       "    <tr>\n",
       "      <th>3</th>\n",
       "      <td>Philippe</td>\n",
       "      <td>53</td>\n",
       "      <td>5.59</td>\n",
       "    </tr>\n",
       "    <tr>\n",
       "      <th>4</th>\n",
       "      <td>Michel</td>\n",
       "      <td>30</td>\n",
       "      <td>3.50</td>\n",
       "    </tr>\n",
       "  </tbody>\n",
       "</table>\n",
       "</div>"
      ],
      "text/plain": [
       "         Nom  Age  Rating\n",
       "0    ANATOLE   55    4.53\n",
       "1   Vincent    59    3.54\n",
       "2    Brenda    55    3.98\n",
       "3  Philippe    53    5.59\n",
       "4    Michel    30    3.50"
      ]
     },
     "execution_count": 36,
     "metadata": {},
     "output_type": "execute_result"
    }
   ],
   "source": [
    "data_tc.head() # afficher les 5 premières lignes"
   ]
  },
  {
   "cell_type": "markdown",
   "id": "6d551552",
   "metadata": {},
   "source": [
    "#### Analyse descriptive et des modes"
   ]
  },
  {
   "cell_type": "code",
   "execution_count": 37,
   "id": "7a72a095",
   "metadata": {},
   "outputs": [
    {
     "data": {
      "text/html": [
       "<div>\n",
       "<style scoped>\n",
       "    .dataframe tbody tr th:only-of-type {\n",
       "        vertical-align: middle;\n",
       "    }\n",
       "\n",
       "    .dataframe tbody tr th {\n",
       "        vertical-align: top;\n",
       "    }\n",
       "\n",
       "    .dataframe thead th {\n",
       "        text-align: right;\n",
       "    }\n",
       "</style>\n",
       "<table border=\"1\" class=\"dataframe\">\n",
       "  <thead>\n",
       "    <tr style=\"text-align: right;\">\n",
       "      <th></th>\n",
       "      <th>Age</th>\n",
       "      <th>Rating</th>\n",
       "    </tr>\n",
       "  </thead>\n",
       "  <tbody>\n",
       "    <tr>\n",
       "      <th>count</th>\n",
       "      <td>17.000000</td>\n",
       "      <td>17.000000</td>\n",
       "    </tr>\n",
       "    <tr>\n",
       "      <th>mean</th>\n",
       "      <td>45.647059</td>\n",
       "      <td>4.438824</td>\n",
       "    </tr>\n",
       "    <tr>\n",
       "      <th>std</th>\n",
       "      <td>10.723462</td>\n",
       "      <td>0.800390</td>\n",
       "    </tr>\n",
       "    <tr>\n",
       "      <th>min</th>\n",
       "      <td>30.000000</td>\n",
       "      <td>3.500000</td>\n",
       "    </tr>\n",
       "    <tr>\n",
       "      <th>25%</th>\n",
       "      <td>34.000000</td>\n",
       "      <td>3.800000</td>\n",
       "    </tr>\n",
       "    <tr>\n",
       "      <th>50%</th>\n",
       "      <td>49.000000</td>\n",
       "      <td>4.300000</td>\n",
       "    </tr>\n",
       "    <tr>\n",
       "      <th>75%</th>\n",
       "      <td>53.000000</td>\n",
       "      <td>4.800000</td>\n",
       "    </tr>\n",
       "    <tr>\n",
       "      <th>max</th>\n",
       "      <td>59.000000</td>\n",
       "      <td>5.980000</td>\n",
       "    </tr>\n",
       "  </tbody>\n",
       "</table>\n",
       "</div>"
      ],
      "text/plain": [
       "             Age     Rating\n",
       "count  17.000000  17.000000\n",
       "mean   45.647059   4.438824\n",
       "std    10.723462   0.800390\n",
       "min    30.000000   3.500000\n",
       "25%    34.000000   3.800000\n",
       "50%    49.000000   4.300000\n",
       "75%    53.000000   4.800000\n",
       "max    59.000000   5.980000"
      ]
     },
     "execution_count": 37,
     "metadata": {},
     "output_type": "execute_result"
    }
   ],
   "source": [
    "data_tc.describe() # Analyse descriptive du jeu de données tendance centrale"
   ]
  },
  {
   "cell_type": "code",
   "execution_count": 38,
   "id": "342925ef",
   "metadata": {},
   "outputs": [
    {
     "data": {
      "text/html": [
       "<div>\n",
       "<style scoped>\n",
       "    .dataframe tbody tr th:only-of-type {\n",
       "        vertical-align: middle;\n",
       "    }\n",
       "\n",
       "    .dataframe tbody tr th {\n",
       "        vertical-align: top;\n",
       "    }\n",
       "\n",
       "    .dataframe thead th {\n",
       "        text-align: right;\n",
       "    }\n",
       "</style>\n",
       "<table border=\"1\" class=\"dataframe\">\n",
       "  <thead>\n",
       "    <tr style=\"text-align: right;\">\n",
       "      <th></th>\n",
       "      <th>Nom</th>\n",
       "      <th>Age</th>\n",
       "      <th>Rating</th>\n",
       "    </tr>\n",
       "  </thead>\n",
       "  <tbody>\n",
       "    <tr>\n",
       "      <th>0</th>\n",
       "      <td>perez</td>\n",
       "      <td>53.0</td>\n",
       "      <td>3.78</td>\n",
       "    </tr>\n",
       "    <tr>\n",
       "      <th>1</th>\n",
       "      <td>NaN</td>\n",
       "      <td>NaN</td>\n",
       "      <td>3.95</td>\n",
       "    </tr>\n",
       "    <tr>\n",
       "      <th>2</th>\n",
       "      <td>NaN</td>\n",
       "      <td>NaN</td>\n",
       "      <td>4.30</td>\n",
       "    </tr>\n",
       "    <tr>\n",
       "      <th>3</th>\n",
       "      <td>NaN</td>\n",
       "      <td>NaN</td>\n",
       "      <td>4.80</td>\n",
       "    </tr>\n",
       "    <tr>\n",
       "      <th>4</th>\n",
       "      <td>NaN</td>\n",
       "      <td>NaN</td>\n",
       "      <td>5.98</td>\n",
       "    </tr>\n",
       "  </tbody>\n",
       "</table>\n",
       "</div>"
      ],
      "text/plain": [
       "     Nom   Age  Rating\n",
       "0  perez  53.0    3.78\n",
       "1    NaN   NaN    3.95\n",
       "2    NaN   NaN    4.30\n",
       "3    NaN   NaN    4.80\n",
       "4    NaN   NaN    5.98"
      ]
     },
     "execution_count": 38,
     "metadata": {},
     "output_type": "execute_result"
    }
   ],
   "source": [
    "data_tc.mode() # Calcul des modes (les valeurs les plus fréquente) du jeu de données"
   ]
  },
  {
   "cell_type": "markdown",
   "id": "ed9af399",
   "metadata": {},
   "source": [
    "Ici la valeur la plus fréquente parmi le **Nom** est *Perez*, l'**Age** le plus fréquent est *53*, et plusieurs valeurs **Rating** (5) sont représenté 2 fois."
   ]
  },
  {
   "cell_type": "markdown",
   "id": "960494f7",
   "metadata": {},
   "source": [
    "### Analyse de la variance"
   ]
  },
  {
   "cell_type": "markdown",
   "id": "bf0c8aed",
   "metadata": {},
   "source": [
    "On cherche ici a vérifier si l'age des personnes a une relation particulière avec le rating.\n",
    "On emet donc les deux hypothèses suivantes :  \n",
    "    - **H0** : Hypothèse nulle, on suppose que les échantillons sont issus d'une même population.  \n",
    "    - **H1** : On suppose que chaque échantillon analysé est indépendant des autres échantillons."
   ]
  },
  {
   "cell_type": "code",
   "execution_count": 39,
   "id": "93ef586a",
   "metadata": {},
   "outputs": [
    {
     "data": {
      "text/html": [
       "<div>\n",
       "<style scoped>\n",
       "    .dataframe tbody tr th:only-of-type {\n",
       "        vertical-align: middle;\n",
       "    }\n",
       "\n",
       "    .dataframe tbody tr th {\n",
       "        vertical-align: top;\n",
       "    }\n",
       "\n",
       "    .dataframe thead th {\n",
       "        text-align: right;\n",
       "    }\n",
       "</style>\n",
       "<table border=\"1\" class=\"dataframe\">\n",
       "  <thead>\n",
       "    <tr style=\"text-align: right;\">\n",
       "      <th></th>\n",
       "      <th>Nom</th>\n",
       "      <th>Age</th>\n",
       "      <th>Rating</th>\n",
       "    </tr>\n",
       "  </thead>\n",
       "  <tbody>\n",
       "    <tr>\n",
       "      <th>0</th>\n",
       "      <td>ANATOLE</td>\n",
       "      <td>55</td>\n",
       "      <td>4.53</td>\n",
       "    </tr>\n",
       "    <tr>\n",
       "      <th>1</th>\n",
       "      <td>Vincent</td>\n",
       "      <td>59</td>\n",
       "      <td>3.54</td>\n",
       "    </tr>\n",
       "    <tr>\n",
       "      <th>2</th>\n",
       "      <td>Brenda</td>\n",
       "      <td>55</td>\n",
       "      <td>3.98</td>\n",
       "    </tr>\n",
       "    <tr>\n",
       "      <th>3</th>\n",
       "      <td>Philippe</td>\n",
       "      <td>53</td>\n",
       "      <td>5.59</td>\n",
       "    </tr>\n",
       "    <tr>\n",
       "      <th>4</th>\n",
       "      <td>Michel</td>\n",
       "      <td>30</td>\n",
       "      <td>3.50</td>\n",
       "    </tr>\n",
       "    <tr>\n",
       "      <th>5</th>\n",
       "      <td>Tillier</td>\n",
       "      <td>59</td>\n",
       "      <td>4.90</td>\n",
       "    </tr>\n",
       "    <tr>\n",
       "      <th>6</th>\n",
       "      <td>Blanchard</td>\n",
       "      <td>53</td>\n",
       "      <td>3.80</td>\n",
       "    </tr>\n",
       "    <tr>\n",
       "      <th>7</th>\n",
       "      <td>perez</td>\n",
       "      <td>34</td>\n",
       "      <td>3.78</td>\n",
       "    </tr>\n",
       "    <tr>\n",
       "      <th>8</th>\n",
       "      <td>théo</td>\n",
       "      <td>40</td>\n",
       "      <td>5.98</td>\n",
       "    </tr>\n",
       "    <tr>\n",
       "      <th>9</th>\n",
       "      <td>cyprien</td>\n",
       "      <td>30</td>\n",
       "      <td>4.80</td>\n",
       "    </tr>\n",
       "    <tr>\n",
       "      <th>10</th>\n",
       "      <td>manuella</td>\n",
       "      <td>53</td>\n",
       "      <td>4.30</td>\n",
       "    </tr>\n",
       "    <tr>\n",
       "      <th>11</th>\n",
       "      <td>LEGGERET</td>\n",
       "      <td>49</td>\n",
       "      <td>3.95</td>\n",
       "    </tr>\n",
       "    <tr>\n",
       "      <th>12</th>\n",
       "      <td>perez</td>\n",
       "      <td>34</td>\n",
       "      <td>3.78</td>\n",
       "    </tr>\n",
       "    <tr>\n",
       "      <th>13</th>\n",
       "      <td>sestre</td>\n",
       "      <td>40</td>\n",
       "      <td>5.98</td>\n",
       "    </tr>\n",
       "    <tr>\n",
       "      <th>14</th>\n",
       "      <td>Fazal</td>\n",
       "      <td>30</td>\n",
       "      <td>4.80</td>\n",
       "    </tr>\n",
       "    <tr>\n",
       "      <th>15</th>\n",
       "      <td>Donald</td>\n",
       "      <td>53</td>\n",
       "      <td>4.30</td>\n",
       "    </tr>\n",
       "    <tr>\n",
       "      <th>16</th>\n",
       "      <td>Estelle</td>\n",
       "      <td>49</td>\n",
       "      <td>3.95</td>\n",
       "    </tr>\n",
       "  </tbody>\n",
       "</table>\n",
       "</div>"
      ],
      "text/plain": [
       "           Nom  Age  Rating\n",
       "0      ANATOLE   55    4.53\n",
       "1     Vincent    59    3.54\n",
       "2      Brenda    55    3.98\n",
       "3    Philippe    53    5.59\n",
       "4      Michel    30    3.50\n",
       "5     Tillier    59    4.90\n",
       "6   Blanchard    53    3.80\n",
       "7        perez   34    3.78\n",
       "8        théo    40    5.98\n",
       "9     cyprien    30    4.80\n",
       "10   manuella    53    4.30\n",
       "11   LEGGERET    49    3.95\n",
       "12       perez   34    3.78\n",
       "13    sestre     40    5.98\n",
       "14      Fazal    30    4.80\n",
       "15      Donald   53    4.30\n",
       "16     Estelle   49    3.95"
      ]
     },
     "execution_count": 39,
     "metadata": {},
     "output_type": "execute_result"
    }
   ],
   "source": [
    "data_tc"
   ]
  },
  {
   "cell_type": "code",
   "execution_count": 40,
   "id": "9a1f1f35",
   "metadata": {},
   "outputs": [
    {
     "name": "stdout",
     "output_type": "stream",
     "text": [
      "La valeur de statistique F est : 249.65148011543107\n",
      "La valeur de p_value associée est : 1.1416831449220863e-16\n"
     ]
    }
   ],
   "source": [
    "F, p_value = stats.f_oneway(data_tc[\"Age\"], data_tc[\"Rating\"])\n",
    "print(\"La valeur de statistique F est : \" + str(F))\n",
    "print(\"La valeur de p_value associée est : \" + str(p_value))"
   ]
  },
  {
   "cell_type": "markdown",
   "id": "1aa47cdf",
   "metadata": {},
   "source": [
    "La valeur de de p est inférieur au seuil de 0,05 on peut donc rejeté l'hypothèse H0. Il s'emblerait donc y avoir une influence de l'**Age** sur le **Rating**"
   ]
  },
  {
   "cell_type": "markdown",
   "id": "0d6db2e2",
   "metadata": {},
   "source": [
    "Attention Zone de test ANOVA depuis la bibliothèque statsmodels :"
   ]
  },
  {
   "cell_type": "code",
   "execution_count": 41,
   "id": "d2b8d2b8",
   "metadata": {},
   "outputs": [],
   "source": [
    "import statsmodels.formula.api\n",
    "import statsmodels.api"
   ]
  },
  {
   "cell_type": "code",
   "execution_count": 42,
   "id": "a41bb2dd",
   "metadata": {},
   "outputs": [
    {
     "data": {
      "text/html": [
       "<div>\n",
       "<style scoped>\n",
       "    .dataframe tbody tr th:only-of-type {\n",
       "        vertical-align: middle;\n",
       "    }\n",
       "\n",
       "    .dataframe tbody tr th {\n",
       "        vertical-align: top;\n",
       "    }\n",
       "\n",
       "    .dataframe thead th {\n",
       "        text-align: right;\n",
       "    }\n",
       "</style>\n",
       "<table border=\"1\" class=\"dataframe\">\n",
       "  <thead>\n",
       "    <tr style=\"text-align: right;\">\n",
       "      <th></th>\n",
       "      <th>df</th>\n",
       "      <th>sum_sq</th>\n",
       "      <th>mean_sq</th>\n",
       "      <th>F</th>\n",
       "      <th>PR(&gt;F)</th>\n",
       "    </tr>\n",
       "  </thead>\n",
       "  <tbody>\n",
       "    <tr>\n",
       "      <th>Age</th>\n",
       "      <td>1.0</td>\n",
       "      <td>0.049125</td>\n",
       "      <td>0.049125</td>\n",
       "      <td>0.072237</td>\n",
       "      <td>0.791769</td>\n",
       "    </tr>\n",
       "    <tr>\n",
       "      <th>Residual</th>\n",
       "      <td>15.0</td>\n",
       "      <td>10.200851</td>\n",
       "      <td>0.680057</td>\n",
       "      <td>NaN</td>\n",
       "      <td>NaN</td>\n",
       "    </tr>\n",
       "  </tbody>\n",
       "</table>\n",
       "</div>"
      ],
      "text/plain": [
       "            df     sum_sq   mean_sq         F    PR(>F)\n",
       "Age        1.0   0.049125  0.049125  0.072237  0.791769\n",
       "Residual  15.0  10.200851  0.680057       NaN       NaN"
      ]
     },
     "execution_count": 42,
     "metadata": {},
     "output_type": "execute_result"
    }
   ],
   "source": [
    "fit = statsmodels.formula.api.ols('Rating ~ Age', data = data_tc).fit()\n",
    "table = statsmodels.api.stats.anova_lm(fit)\n",
    "table"
   ]
  },
  {
   "cell_type": "markdown",
   "id": "ed7659f4",
   "metadata": {},
   "source": [
    "### Analyse de corrélations"
   ]
  },
  {
   "cell_type": "markdown",
   "id": "d71c318f",
   "metadata": {},
   "source": [
    "####  Charrgement des données"
   ]
  },
  {
   "cell_type": "code",
   "execution_count": 43,
   "id": "bf633307",
   "metadata": {},
   "outputs": [],
   "source": [
    "data_iris = pd.read_csv(\"./base_donnees/iris.csv\")"
   ]
  },
  {
   "cell_type": "code",
   "execution_count": 44,
   "id": "c745e892",
   "metadata": {},
   "outputs": [
    {
     "data": {
      "text/html": [
       "<div>\n",
       "<style scoped>\n",
       "    .dataframe tbody tr th:only-of-type {\n",
       "        vertical-align: middle;\n",
       "    }\n",
       "\n",
       "    .dataframe tbody tr th {\n",
       "        vertical-align: top;\n",
       "    }\n",
       "\n",
       "    .dataframe thead th {\n",
       "        text-align: right;\n",
       "    }\n",
       "</style>\n",
       "<table border=\"1\" class=\"dataframe\">\n",
       "  <thead>\n",
       "    <tr style=\"text-align: right;\">\n",
       "      <th></th>\n",
       "      <th>longueur_sepal</th>\n",
       "      <th>largeur_sepal</th>\n",
       "      <th>longueur_petal</th>\n",
       "      <th>largeur_petal</th>\n",
       "      <th>espece</th>\n",
       "    </tr>\n",
       "  </thead>\n",
       "  <tbody>\n",
       "    <tr>\n",
       "      <th>0</th>\n",
       "      <td>5.1</td>\n",
       "      <td>3.5</td>\n",
       "      <td>1.4</td>\n",
       "      <td>0.2</td>\n",
       "      <td>setosa</td>\n",
       "    </tr>\n",
       "    <tr>\n",
       "      <th>1</th>\n",
       "      <td>4.9</td>\n",
       "      <td>3.0</td>\n",
       "      <td>1.4</td>\n",
       "      <td>0.2</td>\n",
       "      <td>setosa</td>\n",
       "    </tr>\n",
       "    <tr>\n",
       "      <th>2</th>\n",
       "      <td>4.7</td>\n",
       "      <td>3.2</td>\n",
       "      <td>1.3</td>\n",
       "      <td>0.2</td>\n",
       "      <td>setosa</td>\n",
       "    </tr>\n",
       "    <tr>\n",
       "      <th>3</th>\n",
       "      <td>4.6</td>\n",
       "      <td>3.1</td>\n",
       "      <td>1.5</td>\n",
       "      <td>0.2</td>\n",
       "      <td>setosa</td>\n",
       "    </tr>\n",
       "    <tr>\n",
       "      <th>4</th>\n",
       "      <td>5.0</td>\n",
       "      <td>3.6</td>\n",
       "      <td>1.4</td>\n",
       "      <td>0.2</td>\n",
       "      <td>setosa</td>\n",
       "    </tr>\n",
       "  </tbody>\n",
       "</table>\n",
       "</div>"
      ],
      "text/plain": [
       "   longueur_sepal  largeur_sepal  longueur_petal  largeur_petal  espece\n",
       "0             5.1            3.5             1.4            0.2  setosa\n",
       "1             4.9            3.0             1.4            0.2  setosa\n",
       "2             4.7            3.2             1.3            0.2  setosa\n",
       "3             4.6            3.1             1.5            0.2  setosa\n",
       "4             5.0            3.6             1.4            0.2  setosa"
      ]
     },
     "execution_count": 44,
     "metadata": {},
     "output_type": "execute_result"
    }
   ],
   "source": [
    "data_iris.head() # Affichage des 5 premières lignes des données iris"
   ]
  },
  {
   "cell_type": "markdown",
   "id": "f197aba3",
   "metadata": {},
   "source": [
    "#### Analyse graphique "
   ]
  },
  {
   "cell_type": "markdown",
   "id": "32c808fb",
   "metadata": {},
   "source": [
    "Réalisation de graphique nuage de point, pour visualiser l'allure du jeu de donnée. Dans un premier temps on cherche a déterminer le nombre d'espèces différentes présente dans le jeux de données."
   ]
  },
  {
   "cell_type": "code",
   "execution_count": 45,
   "id": "a9da80c6",
   "metadata": {},
   "outputs": [
    {
     "data": {
      "text/plain": [
       "3"
      ]
     },
     "execution_count": 45,
     "metadata": {},
     "output_type": "execute_result"
    }
   ],
   "source": [
    "len(data_iris[\"espece\"].unique())"
   ]
  },
  {
   "cell_type": "markdown",
   "id": "79e608bf",
   "metadata": {},
   "source": [
    "Ce qui nous permet de créer liste contenant une couleur par catégorie, ce qui pourra nous être utile pour la suite."
   ]
  },
  {
   "cell_type": "code",
   "execution_count": 46,
   "id": "c5261152",
   "metadata": {},
   "outputs": [
    {
     "name": "stdout",
     "output_type": "stream",
     "text": [
      "['setosa' 'versicolor' 'virginica']\n"
     ]
    }
   ],
   "source": [
    "legende_especes = data_iris[\"espece\"].unique()\n",
    "print(legende_especes)"
   ]
  },
  {
   "cell_type": "code",
   "execution_count": 47,
   "id": "4f76efbe",
   "metadata": {},
   "outputs": [],
   "source": [
    "label_especes = labelE.fit_transform(data_iris[\"espece\"])\n",
    "couleur_cat = np.array(['r','g','b'])"
   ]
  },
  {
   "cell_type": "markdown",
   "id": "d05d8efb",
   "metadata": {},
   "source": [
    "On peut alors tracer la visualisation des donées avec 1 couleur pour chaque espèce."
   ]
  },
  {
   "cell_type": "code",
   "execution_count": 48,
   "id": "889aa5cf",
   "metadata": {},
   "outputs": [
    {
     "data": {
      "image/png": "[encoded data removed]",
      "text/plain": [
       "<Figure size 432x288 with 2 Axes>"
      ]
     },
     "metadata": {
      "needs_background": "light"
     },
     "output_type": "display_data"
    }
   ],
   "source": [
    "fig, (ax1, ax2) = plt.subplots(1, 2)\n",
    "\n",
    "# ax1 = plt.subplot(121)\n",
    "ax1.scatter(data_iris[\"longueur_sepal\"], data_iris[\"largeur_sepal\"], c=couleur_cat[label_especes])\n",
    "ax1.set_title(\"Visualisation de la taille des sepals\", fontsize = 15)\n",
    "ax1.set_xlabel(\"Largeur des sepales\")\n",
    "ax1.set_ylabel(\"Longueur des sepales\")\n",
    "ax1.grid(True)\n",
    "\n",
    "# ax2 = plt.subplot(122)\n",
    "ax2.scatter(data_iris[\"longueur_petal\"], data_iris[\"largeur_petal\"], c=couleur_cat[label_especes])\n",
    "ax2.set_title(\"Visualisation de la taille des petales\", fontsize = 15)\n",
    "ax2.set_xlabel(\"Largeur des petales\")\n",
    "ax2.set_ylabel(\"Longueur des petales\")\n",
    "ax2.grid(True)\n",
    "\n",
    "plt.subplots_adjust(left = 0,\n",
    "           bottom = 0,\n",
    "           right = 2, # Largeur du graphique\n",
    "           top = 1, # Hauteur du graphique\n",
    "           wspace = 0.2,\n",
    "           hspace = 0)\n",
    "\n",
    "plt.savefig(\"./Figures/nuage_point_especes.png\")\n",
    "plt.show()"
   ]
  },
  {
   "cell_type": "markdown",
   "id": "799c40f5",
   "metadata": {},
   "source": [
    "*Remarque : Il manque les légendes, pour les ajouter facilement on aurait pu isoler les valeurs de chaque catégories et réaliser ensuite trois nuages de points superposés. Ici nous avous uniquement cherché à visualiser rapidement les données.*"
   ]
  },
  {
   "cell_type": "markdown",
   "id": "9e61f9bb",
   "metadata": {},
   "source": [
    "Au vu des deux graphiques obtenu il semblerait que la taille des sépales d'une des trois espèces se distingue des deux autres. Cette hypothèse est également visible avec la taille des petales. La taille des petales semble également distinguer les deux autres espèces."
   ]
  },
  {
   "cell_type": "markdown",
   "id": "46e5e5a7",
   "metadata": {},
   "source": [
    "#### Analyse mathématique"
   ]
  },
  {
   "cell_type": "markdown",
   "id": "60dc1128",
   "metadata": {},
   "source": [
    "Utilisation de scipy, avec la fonction pearsonr :"
   ]
  },
  {
   "cell_type": "code",
   "execution_count": 49,
   "id": "3b49b43a",
   "metadata": {},
   "outputs": [
    {
     "name": "stdout",
     "output_type": "stream",
     "text": [
      "La valeur r est de : -0.11756978413300204\n",
      "La valeur p est de : 0.15189826071144918\n"
     ]
    }
   ],
   "source": [
    "# Calcul de la valeur r et p entre les variable largeur_sepal et longueur_sepal\n",
    "r_sepal, p_sepal = stats.pearsonr(data_iris[\"largeur_sepal\"],data_iris[\"longueur_sepal\"])\n",
    "print(\"La valeur r est de : \" + str(r_sepal))\n",
    "print(\"La valeur p est de : \" + str(p_sepal))"
   ]
  },
  {
   "cell_type": "markdown",
   "id": "bf539d9f",
   "metadata": {},
   "source": [
    "D'après les résultats obtenus, la correlation de Pearson nous renvoie une valeur *r* de -0.11, soit une valeur négative et se rapprochant de 0. On a également *p_value* de 0.15. Cette dernière étant supérieur au seuil de 0.05, on peut accepter l'hypothèse nulle, disant qu'il n'y a pas de correlation linéaire entre la largeur et la longueur des sépales. "
   ]
  },
  {
   "cell_type": "code",
   "execution_count": 50,
   "id": "3794ccb0",
   "metadata": {},
   "outputs": [
    {
     "name": "stdout",
     "output_type": "stream",
     "text": [
      "La valeur r est de : 0.962865431402796\n",
      "La valeur p est de : 4.6750039073285846e-86\n"
     ]
    }
   ],
   "source": [
    "# Calcul de la valeur r et p entre les variable largeur_petal et longueur_petal\n",
    "r_petal, p_petal = stats.pearsonr(data_iris[\"largeur_petal\"],data_iris[\"longueur_petal\"])\n",
    "print(\"La valeur r est de : \" + str(r_petal))\n",
    "print(\"La valeur p est de : \" + str(p_petal))"
   ]
  },
  {
   "cell_type": "markdown",
   "id": "d1246e69",
   "metadata": {},
   "source": [
    "D'après les résultats obtenus, la correlation de Pearson nous renvoie une valeur *r* de 0.96, soit une valeur très de 1. On a également *p_value* de 4.68e-86. Cette dernière étant très inférieur au seuil de 0.05, on peut rejeter l'hypothèse nulle. Il semblerait donc qu'il y a une correlation linéaire positive entre la largeur et la longueur des petales. "
   ]
  },
  {
   "cell_type": "code",
   "execution_count": null,
   "id": "fb975113",
   "metadata": {},
   "outputs": [],
   "source": []
  }
 ],
 "metadata": {
  "kernelspec": {
   "display_name": "Python 3 (ipykernel)",
   "language": "python",
   "name": "python3"
  },
  "language_info": {
   "codemirror_mode": {
    "name": "ipython",
    "version": 3
   },
   "file_extension": ".py",
   "mimetype": "text/x-python",
   "name": "python",
   "nbconvert_exporter": "python",
   "pygments_lexer": "ipython3",
   "version": "3.9.7"
  }
 },
 "nbformat": 4,
 "nbformat_minor": 5
}
